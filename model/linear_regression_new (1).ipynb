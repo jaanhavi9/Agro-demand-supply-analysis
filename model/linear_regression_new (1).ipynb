{
  "nbformat": 4,
  "nbformat_minor": 0,
  "metadata": {
    "colab": {
      "provenance": []
    },
    "kernelspec": {
      "name": "python3",
      "display_name": "Python 3"
    },
    "language_info": {
      "name": "python"
    }
  },
  "cells": [
    {
      "cell_type": "code",
      "execution_count": 2,
      "metadata": {
        "id": "zsOcaBRdC8Jf"
      },
      "outputs": [],
      "source": [
        "import pandas as pd\n",
        "from sklearn.model_selection import train_test_split\n",
        "from sklearn.preprocessing import StandardScaler\n",
        "import numpy as np\n",
        "from sklearn.linear_model import LinearRegression\n",
        "from sklearn.impute import SimpleImputer\n",
        "import matplotlib.pyplot as plt\n",
        "from dateutil import parser"
      ]
    },
    {
      "cell_type": "code",
      "source": [
        "weather_data = pd.read_csv('weather_data.csv')\n",
        "price_data = pd.read_csv('crop_data.csv')"
      ],
      "metadata": {
        "id": "B4v7szPuEtIV"
      },
      "execution_count": 3,
      "outputs": []
    },
    {
      "cell_type": "code",
      "source": [
        "import pandas as pd\n",
        "from dateutil import parser\n",
        "import numpy as np\n",
        "# date_formats = [\"%d/%m/%Y\", \"%d-%b-%Y\"]\n",
        "\n",
        "# Define a function to parse the date, handling NaN values\n",
        "def parse_date(x):\n",
        "    try:\n",
        "        return parser.parse(str(x), dayfirst=True, yearfirst=True)\n",
        "    except (TypeError, ValueError):\n",
        "        return np.nan\n",
        "\n",
        "# Apply the parsing function to the date column\n",
        "weather_data['Date'] = weather_data['Date'].apply(parse_date)\n",
        "\n",
        "# Convert to a standard format, for example, 'YYYY-MM-DD'\n",
        "weather_data['Date'] = pd.to_datetime(weather_data['Date']).dt.strftime('%Y-%m-%d')\n",
        "\n",
        "# Display the DataFrame\n",
        "weather_data.head()\n",
        "print(weather_data)"
      ],
      "metadata": {
        "colab": {
          "base_uri": "https://localhost:8080/"
        },
        "id": "YFNwxMV8FAcR",
        "outputId": "78627871-7341-4925-e3d0-bcc2e3b57fef"
      },
      "execution_count": 4,
      "outputs": [
        {
          "output_type": "stream",
          "name": "stdout",
          "text": [
            "            Date  tempmax  tempmin  temp  humidity   prcp\n",
            "0     2013-06-01     26.1     20.2  22.6      89.0   20.0\n",
            "1     2013-06-02     27.0     20.1  22.8      84.7    5.0\n",
            "2     2013-06-03     27.1     19.9  22.5      83.3    4.0\n",
            "3     2013-06-04     28.6     19.9  24.0      75.9    0.0\n",
            "4     2013-06-05     30.0     21.0  25.2      73.1    0.0\n",
            "...          ...      ...      ...   ...       ...    ...\n",
            "3861  2023-12-27     28.9     15.5  21.7      66.9    0.0\n",
            "3862  2023-12-28     27.9     17.9  22.4      74.4    0.0\n",
            "3863  2023-12-29     26.9     19.1  22.1      77.9    0.0\n",
            "3864  2023-12-30     29.8     18.9  23.2      72.6    0.0\n",
            "3865  2023-12-31     27.9     17.0  22.0      73.9    0.0\n",
            "\n",
            "[3866 rows x 6 columns]\n"
          ]
        }
      ]
    },
    {
      "cell_type": "code",
      "source": [
        "price_data['Date'] = pd.to_datetime(price_data['Date'], format='%d-%m-%Y')\n",
        "price_data.head()\n",
        "print(price_data)"
      ],
      "metadata": {
        "colab": {
          "base_uri": "https://localhost:8080/"
        },
        "id": "Ek1rVfNYFFIZ",
        "outputId": "ecd6c7df-36fa-4029-bebb-ae3fc05174d2"
      },
      "execution_count": 5,
      "outputs": [
        {
          "output_type": "stream",
          "name": "stdout",
          "text": [
            "           Date    Minimum  Maximum    Average\n",
            "0    2013-06-01  21.272727     26.0  23.636364\n",
            "1    2013-06-02  21.272727     26.0  23.636364\n",
            "2    2013-06-03  21.272727     26.0  23.636364\n",
            "3    2013-06-04  21.272727     26.0  23.636364\n",
            "4    2013-06-05  21.272727     26.0  23.636364\n",
            "...         ...        ...      ...        ...\n",
            "3832 2023-11-28  15.000000     26.0  20.500000\n",
            "3833 2023-11-29   5.000000     26.0  15.500000\n",
            "3834 2023-11-30  15.000000     33.0  24.000000\n",
            "3835 2023-12-01  28.000000     30.0  29.000000\n",
            "3836 2023-12-02  20.000000     30.0  25.000000\n",
            "\n",
            "[3837 rows x 4 columns]\n"
          ]
        }
      ]
    },
    {
      "cell_type": "code",
      "source": [
        "import pandas as pd\n",
        "\n",
        "# Assuming 'Date' column in weather_data is of type 'object'\n",
        "weather_data['Date'] = pd.to_datetime(weather_data['Date'])\n",
        "\n",
        "# Now you can perform the merge\n",
        "merged_data = pd.merge(weather_data, price_data, on='Date', how='right')"
      ],
      "metadata": {
        "id": "MhiBbwM6NDom"
      },
      "execution_count": 6,
      "outputs": []
    },
    {
      "cell_type": "code",
      "source": [
        "merged_data.head()"
      ],
      "metadata": {
        "colab": {
          "base_uri": "https://localhost:8080/",
          "height": 206
        },
        "id": "Rhdc3xCHNJv-",
        "outputId": "07924f12-022d-43d8-ff8e-456d6f9163bb"
      },
      "execution_count": 7,
      "outputs": [
        {
          "output_type": "execute_result",
          "data": {
            "text/plain": [
              "        Date  tempmax  tempmin  temp  humidity   prcp    Minimum  Maximum  \\\n",
              "0 2013-06-01     26.1     20.2  22.6      89.0   20.0  21.272727     26.0   \n",
              "1 2013-06-02     27.0     20.1  22.8      84.7    5.0  21.272727     26.0   \n",
              "2 2013-06-03     27.1     19.9  22.5      83.3    4.0  21.272727     26.0   \n",
              "3 2013-06-04     28.6     19.9  24.0      75.9    0.0  21.272727     26.0   \n",
              "4 2013-06-05     30.0     21.0  25.2      73.1    0.0  21.272727     26.0   \n",
              "\n",
              "     Average  \n",
              "0  23.636364  \n",
              "1  23.636364  \n",
              "2  23.636364  \n",
              "3  23.636364  \n",
              "4  23.636364  "
            ],
            "text/html": [
              "\n",
              "  <div id=\"df-31bca0f6-9ab4-4e43-8370-7bfec69d4754\" class=\"colab-df-container\">\n",
              "    <div>\n",
              "<style scoped>\n",
              "    .dataframe tbody tr th:only-of-type {\n",
              "        vertical-align: middle;\n",
              "    }\n",
              "\n",
              "    .dataframe tbody tr th {\n",
              "        vertical-align: top;\n",
              "    }\n",
              "\n",
              "    .dataframe thead th {\n",
              "        text-align: right;\n",
              "    }\n",
              "</style>\n",
              "<table border=\"1\" class=\"dataframe\">\n",
              "  <thead>\n",
              "    <tr style=\"text-align: right;\">\n",
              "      <th></th>\n",
              "      <th>Date</th>\n",
              "      <th>tempmax</th>\n",
              "      <th>tempmin</th>\n",
              "      <th>temp</th>\n",
              "      <th>humidity</th>\n",
              "      <th>prcp</th>\n",
              "      <th>Minimum</th>\n",
              "      <th>Maximum</th>\n",
              "      <th>Average</th>\n",
              "    </tr>\n",
              "  </thead>\n",
              "  <tbody>\n",
              "    <tr>\n",
              "      <th>0</th>\n",
              "      <td>2013-06-01</td>\n",
              "      <td>26.1</td>\n",
              "      <td>20.2</td>\n",
              "      <td>22.6</td>\n",
              "      <td>89.0</td>\n",
              "      <td>20.0</td>\n",
              "      <td>21.272727</td>\n",
              "      <td>26.0</td>\n",
              "      <td>23.636364</td>\n",
              "    </tr>\n",
              "    <tr>\n",
              "      <th>1</th>\n",
              "      <td>2013-06-02</td>\n",
              "      <td>27.0</td>\n",
              "      <td>20.1</td>\n",
              "      <td>22.8</td>\n",
              "      <td>84.7</td>\n",
              "      <td>5.0</td>\n",
              "      <td>21.272727</td>\n",
              "      <td>26.0</td>\n",
              "      <td>23.636364</td>\n",
              "    </tr>\n",
              "    <tr>\n",
              "      <th>2</th>\n",
              "      <td>2013-06-03</td>\n",
              "      <td>27.1</td>\n",
              "      <td>19.9</td>\n",
              "      <td>22.5</td>\n",
              "      <td>83.3</td>\n",
              "      <td>4.0</td>\n",
              "      <td>21.272727</td>\n",
              "      <td>26.0</td>\n",
              "      <td>23.636364</td>\n",
              "    </tr>\n",
              "    <tr>\n",
              "      <th>3</th>\n",
              "      <td>2013-06-04</td>\n",
              "      <td>28.6</td>\n",
              "      <td>19.9</td>\n",
              "      <td>24.0</td>\n",
              "      <td>75.9</td>\n",
              "      <td>0.0</td>\n",
              "      <td>21.272727</td>\n",
              "      <td>26.0</td>\n",
              "      <td>23.636364</td>\n",
              "    </tr>\n",
              "    <tr>\n",
              "      <th>4</th>\n",
              "      <td>2013-06-05</td>\n",
              "      <td>30.0</td>\n",
              "      <td>21.0</td>\n",
              "      <td>25.2</td>\n",
              "      <td>73.1</td>\n",
              "      <td>0.0</td>\n",
              "      <td>21.272727</td>\n",
              "      <td>26.0</td>\n",
              "      <td>23.636364</td>\n",
              "    </tr>\n",
              "  </tbody>\n",
              "</table>\n",
              "</div>\n",
              "    <div class=\"colab-df-buttons\">\n",
              "\n",
              "  <div class=\"colab-df-container\">\n",
              "    <button class=\"colab-df-convert\" onclick=\"convertToInteractive('df-31bca0f6-9ab4-4e43-8370-7bfec69d4754')\"\n",
              "            title=\"Convert this dataframe to an interactive table.\"\n",
              "            style=\"display:none;\">\n",
              "\n",
              "  <svg xmlns=\"http://www.w3.org/2000/svg\" height=\"24px\" viewBox=\"0 -960 960 960\">\n",
              "    <path d=\"M120-120v-720h720v720H120Zm60-500h600v-160H180v160Zm220 220h160v-160H400v160Zm0 220h160v-160H400v160ZM180-400h160v-160H180v160Zm440 0h160v-160H620v160ZM180-180h160v-160H180v160Zm440 0h160v-160H620v160Z\"/>\n",
              "  </svg>\n",
              "    </button>\n",
              "\n",
              "  <style>\n",
              "    .colab-df-container {\n",
              "      display:flex;\n",
              "      gap: 12px;\n",
              "    }\n",
              "\n",
              "    .colab-df-convert {\n",
              "      background-color: #E8F0FE;\n",
              "      border: none;\n",
              "      border-radius: 50%;\n",
              "      cursor: pointer;\n",
              "      display: none;\n",
              "      fill: #1967D2;\n",
              "      height: 32px;\n",
              "      padding: 0 0 0 0;\n",
              "      width: 32px;\n",
              "    }\n",
              "\n",
              "    .colab-df-convert:hover {\n",
              "      background-color: #E2EBFA;\n",
              "      box-shadow: 0px 1px 2px rgba(60, 64, 67, 0.3), 0px 1px 3px 1px rgba(60, 64, 67, 0.15);\n",
              "      fill: #174EA6;\n",
              "    }\n",
              "\n",
              "    .colab-df-buttons div {\n",
              "      margin-bottom: 4px;\n",
              "    }\n",
              "\n",
              "    [theme=dark] .colab-df-convert {\n",
              "      background-color: #3B4455;\n",
              "      fill: #D2E3FC;\n",
              "    }\n",
              "\n",
              "    [theme=dark] .colab-df-convert:hover {\n",
              "      background-color: #434B5C;\n",
              "      box-shadow: 0px 1px 3px 1px rgba(0, 0, 0, 0.15);\n",
              "      filter: drop-shadow(0px 1px 2px rgba(0, 0, 0, 0.3));\n",
              "      fill: #FFFFFF;\n",
              "    }\n",
              "  </style>\n",
              "\n",
              "    <script>\n",
              "      const buttonEl =\n",
              "        document.querySelector('#df-31bca0f6-9ab4-4e43-8370-7bfec69d4754 button.colab-df-convert');\n",
              "      buttonEl.style.display =\n",
              "        google.colab.kernel.accessAllowed ? 'block' : 'none';\n",
              "\n",
              "      async function convertToInteractive(key) {\n",
              "        const element = document.querySelector('#df-31bca0f6-9ab4-4e43-8370-7bfec69d4754');\n",
              "        const dataTable =\n",
              "          await google.colab.kernel.invokeFunction('convertToInteractive',\n",
              "                                                    [key], {});\n",
              "        if (!dataTable) return;\n",
              "\n",
              "        const docLinkHtml = 'Like what you see? Visit the ' +\n",
              "          '<a target=\"_blank\" href=https://colab.research.google.com/notebooks/data_table.ipynb>data table notebook</a>'\n",
              "          + ' to learn more about interactive tables.';\n",
              "        element.innerHTML = '';\n",
              "        dataTable['output_type'] = 'display_data';\n",
              "        await google.colab.output.renderOutput(dataTable, element);\n",
              "        const docLink = document.createElement('div');\n",
              "        docLink.innerHTML = docLinkHtml;\n",
              "        element.appendChild(docLink);\n",
              "      }\n",
              "    </script>\n",
              "  </div>\n",
              "\n",
              "\n",
              "<div id=\"df-aaaae485-2435-47bb-a9d9-b96febda7bad\">\n",
              "  <button class=\"colab-df-quickchart\" onclick=\"quickchart('df-aaaae485-2435-47bb-a9d9-b96febda7bad')\"\n",
              "            title=\"Suggest charts\"\n",
              "            style=\"display:none;\">\n",
              "\n",
              "<svg xmlns=\"http://www.w3.org/2000/svg\" height=\"24px\"viewBox=\"0 0 24 24\"\n",
              "     width=\"24px\">\n",
              "    <g>\n",
              "        <path d=\"M19 3H5c-1.1 0-2 .9-2 2v14c0 1.1.9 2 2 2h14c1.1 0 2-.9 2-2V5c0-1.1-.9-2-2-2zM9 17H7v-7h2v7zm4 0h-2V7h2v10zm4 0h-2v-4h2v4z\"/>\n",
              "    </g>\n",
              "</svg>\n",
              "  </button>\n",
              "\n",
              "<style>\n",
              "  .colab-df-quickchart {\n",
              "      --bg-color: #E8F0FE;\n",
              "      --fill-color: #1967D2;\n",
              "      --hover-bg-color: #E2EBFA;\n",
              "      --hover-fill-color: #174EA6;\n",
              "      --disabled-fill-color: #AAA;\n",
              "      --disabled-bg-color: #DDD;\n",
              "  }\n",
              "\n",
              "  [theme=dark] .colab-df-quickchart {\n",
              "      --bg-color: #3B4455;\n",
              "      --fill-color: #D2E3FC;\n",
              "      --hover-bg-color: #434B5C;\n",
              "      --hover-fill-color: #FFFFFF;\n",
              "      --disabled-bg-color: #3B4455;\n",
              "      --disabled-fill-color: #666;\n",
              "  }\n",
              "\n",
              "  .colab-df-quickchart {\n",
              "    background-color: var(--bg-color);\n",
              "    border: none;\n",
              "    border-radius: 50%;\n",
              "    cursor: pointer;\n",
              "    display: none;\n",
              "    fill: var(--fill-color);\n",
              "    height: 32px;\n",
              "    padding: 0;\n",
              "    width: 32px;\n",
              "  }\n",
              "\n",
              "  .colab-df-quickchart:hover {\n",
              "    background-color: var(--hover-bg-color);\n",
              "    box-shadow: 0 1px 2px rgba(60, 64, 67, 0.3), 0 1px 3px 1px rgba(60, 64, 67, 0.15);\n",
              "    fill: var(--button-hover-fill-color);\n",
              "  }\n",
              "\n",
              "  .colab-df-quickchart-complete:disabled,\n",
              "  .colab-df-quickchart-complete:disabled:hover {\n",
              "    background-color: var(--disabled-bg-color);\n",
              "    fill: var(--disabled-fill-color);\n",
              "    box-shadow: none;\n",
              "  }\n",
              "\n",
              "  .colab-df-spinner {\n",
              "    border: 2px solid var(--fill-color);\n",
              "    border-color: transparent;\n",
              "    border-bottom-color: var(--fill-color);\n",
              "    animation:\n",
              "      spin 1s steps(1) infinite;\n",
              "  }\n",
              "\n",
              "  @keyframes spin {\n",
              "    0% {\n",
              "      border-color: transparent;\n",
              "      border-bottom-color: var(--fill-color);\n",
              "      border-left-color: var(--fill-color);\n",
              "    }\n",
              "    20% {\n",
              "      border-color: transparent;\n",
              "      border-left-color: var(--fill-color);\n",
              "      border-top-color: var(--fill-color);\n",
              "    }\n",
              "    30% {\n",
              "      border-color: transparent;\n",
              "      border-left-color: var(--fill-color);\n",
              "      border-top-color: var(--fill-color);\n",
              "      border-right-color: var(--fill-color);\n",
              "    }\n",
              "    40% {\n",
              "      border-color: transparent;\n",
              "      border-right-color: var(--fill-color);\n",
              "      border-top-color: var(--fill-color);\n",
              "    }\n",
              "    60% {\n",
              "      border-color: transparent;\n",
              "      border-right-color: var(--fill-color);\n",
              "    }\n",
              "    80% {\n",
              "      border-color: transparent;\n",
              "      border-right-color: var(--fill-color);\n",
              "      border-bottom-color: var(--fill-color);\n",
              "    }\n",
              "    90% {\n",
              "      border-color: transparent;\n",
              "      border-bottom-color: var(--fill-color);\n",
              "    }\n",
              "  }\n",
              "</style>\n",
              "\n",
              "  <script>\n",
              "    async function quickchart(key) {\n",
              "      const quickchartButtonEl =\n",
              "        document.querySelector('#' + key + ' button');\n",
              "      quickchartButtonEl.disabled = true;  // To prevent multiple clicks.\n",
              "      quickchartButtonEl.classList.add('colab-df-spinner');\n",
              "      try {\n",
              "        const charts = await google.colab.kernel.invokeFunction(\n",
              "            'suggestCharts', [key], {});\n",
              "      } catch (error) {\n",
              "        console.error('Error during call to suggestCharts:', error);\n",
              "      }\n",
              "      quickchartButtonEl.classList.remove('colab-df-spinner');\n",
              "      quickchartButtonEl.classList.add('colab-df-quickchart-complete');\n",
              "    }\n",
              "    (() => {\n",
              "      let quickchartButtonEl =\n",
              "        document.querySelector('#df-aaaae485-2435-47bb-a9d9-b96febda7bad button');\n",
              "      quickchartButtonEl.style.display =\n",
              "        google.colab.kernel.accessAllowed ? 'block' : 'none';\n",
              "    })();\n",
              "  </script>\n",
              "</div>\n",
              "\n",
              "    </div>\n",
              "  </div>\n"
            ]
          },
          "metadata": {},
          "execution_count": 7
        }
      ]
    },
    {
      "cell_type": "code",
      "source": [
        "print(merged_data)"
      ],
      "metadata": {
        "colab": {
          "base_uri": "https://localhost:8080/"
        },
        "id": "niUSGecUNNlE",
        "outputId": "4a7fd7c2-2c7d-4ad7-a82d-d56b9beb4fc2"
      },
      "execution_count": 8,
      "outputs": [
        {
          "output_type": "stream",
          "name": "stdout",
          "text": [
            "           Date  tempmax  tempmin  temp  humidity    prcp    Minimum  Maximum  \\\n",
            "0    2013-06-01     26.1     20.2  22.6      89.0  20.000  21.272727     26.0   \n",
            "1    2013-06-02     27.0     20.1  22.8      84.7   5.000  21.272727     26.0   \n",
            "2    2013-06-03     27.1     19.9  22.5      83.3   4.000  21.272727     26.0   \n",
            "3    2013-06-04     28.6     19.9  24.0      75.9   0.000  21.272727     26.0   \n",
            "4    2013-06-05     30.0     21.0  25.2      73.1   0.000  21.272727     26.0   \n",
            "...         ...      ...      ...   ...       ...     ...        ...      ...   \n",
            "3832 2023-11-28     27.9     20.4  23.7      80.3   0.200  15.000000     26.0   \n",
            "3833 2023-11-29     27.9     21.1  23.7      80.8   0.019   5.000000     26.0   \n",
            "3834 2023-11-30     28.9     20.1  23.4      80.8   0.100  15.000000     33.0   \n",
            "3835 2023-12-01     27.8     20.1  23.6      80.5   0.013  28.000000     30.0   \n",
            "3836 2023-12-02     27.8     19.2  23.2      80.5   0.700  20.000000     30.0   \n",
            "\n",
            "        Average  \n",
            "0     23.636364  \n",
            "1     23.636364  \n",
            "2     23.636364  \n",
            "3     23.636364  \n",
            "4     23.636364  \n",
            "...         ...  \n",
            "3832  20.500000  \n",
            "3833  15.500000  \n",
            "3834  24.000000  \n",
            "3835  29.000000  \n",
            "3836  25.000000  \n",
            "\n",
            "[3837 rows x 9 columns]\n"
          ]
        }
      ]
    },
    {
      "cell_type": "code",
      "source": [
        "merged_data.to_csv('merged_data.csv', index=False)"
      ],
      "metadata": {
        "id": "Nd9tCbs3QVYc"
      },
      "execution_count": 9,
      "outputs": []
    },
    {
      "cell_type": "code",
      "source": [
        "date = merged_data['Date']\n",
        "precipitation = merged_data[' prcp']\n",
        "price = merged_data['Average']"
      ],
      "metadata": {
        "id": "27jT19ZaOgta"
      },
      "execution_count": 10,
      "outputs": []
    },
    {
      "cell_type": "code",
      "source": [
        "merged_data['Date'] = pd.to_datetime(merged_data['Date'])"
      ],
      "metadata": {
        "id": "JmTgcnwqOxha"
      },
      "execution_count": 11,
      "outputs": []
    },
    {
      "cell_type": "code",
      "source": [
        "plt.figure(figsize=(12, 6))\n",
        "plt.plot(date, precipitation, label='Precipitation', marker='o', linestyle='-', color='blue')\n",
        "plt.plot(date, price, label='Price', marker='o', linestyle='-', color='green')\n",
        "plt.title('Precipitation and Price Over Time')\n",
        "plt.xlabel('Date')\n",
        "plt.ylabel('Values')\n",
        "plt.legend()"
      ],
      "metadata": {
        "colab": {
          "base_uri": "https://localhost:8080/",
          "height": 581
        },
        "id": "cGZZslgxOzAU",
        "outputId": "915bcf3b-cf0b-4cdf-e4dd-ac0a710586a5"
      },
      "execution_count": 12,
      "outputs": [
        {
          "output_type": "execute_result",
          "data": {
            "text/plain": [
              "<matplotlib.legend.Legend at 0x78abeabf6560>"
            ]
          },
          "metadata": {},
          "execution_count": 12
        },
        {
          "output_type": "display_data",
          "data": {
            "text/plain": [
              "<Figure size 1200x600 with 1 Axes>"
            ],
            "image/png": "[encoded data removed]"
          },
          "metadata": {}
        }
      ]
    },
    {
      "cell_type": "code",
      "source": [
        "import pandas as pd\n",
        "import numpy as np\n",
        "import matplotlib.pyplot as plt\n",
        "from sklearn.model_selection import train_test_split\n",
        "from sklearn.linear_model import LinearRegression\n",
        "from sklearn.impute import SimpleImputer\n",
        "from sklearn.metrics import mean_squared_error\n",
        "from statsmodels.tsa.statespace.sarimax import SARIMAX\n",
        "from statsmodels.graphics.tsaplots import plot_acf, plot_pacf"
      ],
      "metadata": {
        "id": "C25BabkxO1Ps"
      },
      "execution_count": 13,
      "outputs": []
    },
    {
      "cell_type": "code",
      "source": [
        "features = merged_data[[' prcp', 'tempmin', 'tempmax', 'temp', 'humidity', 'Maximum']]\n",
        "target = merged_data['Average']"
      ],
      "metadata": {
        "id": "j-IZJGXPO4pJ"
      },
      "execution_count": 14,
      "outputs": []
    },
    {
      "cell_type": "code",
      "source": [
        "imputer = SimpleImputer(strategy='mean')  # You can choose other strategies like 'median' or 'most_frequent'\n",
        "features_imputed = imputer.fit_transform(features)"
      ],
      "metadata": {
        "id": "44gfHJGJPMy0"
      },
      "execution_count": 15,
      "outputs": []
    },
    {
      "cell_type": "code",
      "source": [
        "X_train, X_test, y_train, y_test = train_test_split(features_imputed, target, test_size=0.2, random_state=42)"
      ],
      "metadata": {
        "id": "bhGXSSR2PNHy"
      },
      "execution_count": 16,
      "outputs": []
    },
    {
      "cell_type": "code",
      "source": [
        "model = LinearRegression()\n",
        "model.fit(X_train, y_train)"
      ],
      "metadata": {
        "colab": {
          "base_uri": "https://localhost:8080/",
          "height": 74
        },
        "id": "cdwsHX3GPOsS",
        "outputId": "f57898ea-970c-469e-9d65-c151f48be86d"
      },
      "execution_count": 17,
      "outputs": [
        {
          "output_type": "execute_result",
          "data": {
            "text/plain": [
              "LinearRegression()"
            ],
            "text/html": [
              "<style>#sk-container-id-1 {color: black;background-color: white;}#sk-container-id-1 pre{padding: 0;}#sk-container-id-1 div.sk-toggleable {background-color: white;}#sk-container-id-1 label.sk-toggleable__label {cursor: pointer;display: block;width: 100%;margin-bottom: 0;padding: 0.3em;box-sizing: border-box;text-align: center;}#sk-container-id-1 label.sk-toggleable__label-arrow:before {content: \"▸\";float: left;margin-right: 0.25em;color: #696969;}#sk-container-id-1 label.sk-toggleable__label-arrow:hover:before {color: black;}#sk-container-id-1 div.sk-estimator:hover label.sk-toggleable__label-arrow:before {color: black;}#sk-container-id-1 div.sk-toggleable__content {max-height: 0;max-width: 0;overflow: hidden;text-align: left;background-color: #f0f8ff;}#sk-container-id-1 div.sk-toggleable__content pre {margin: 0.2em;color: black;border-radius: 0.25em;background-color: #f0f8ff;}#sk-container-id-1 input.sk-toggleable__control:checked~div.sk-toggleable__content {max-height: 200px;max-width: 100%;overflow: auto;}#sk-container-id-1 input.sk-toggleable__control:checked~label.sk-toggleable__label-arrow:before {content: \"▾\";}#sk-container-id-1 div.sk-estimator input.sk-toggleable__control:checked~label.sk-toggleable__label {background-color: #d4ebff;}#sk-container-id-1 div.sk-label input.sk-toggleable__control:checked~label.sk-toggleable__label {background-color: #d4ebff;}#sk-container-id-1 input.sk-hidden--visually {border: 0;clip: rect(1px 1px 1px 1px);clip: rect(1px, 1px, 1px, 1px);height: 1px;margin: -1px;overflow: hidden;padding: 0;position: absolute;width: 1px;}#sk-container-id-1 div.sk-estimator {font-family: monospace;background-color: #f0f8ff;border: 1px dotted black;border-radius: 0.25em;box-sizing: border-box;margin-bottom: 0.5em;}#sk-container-id-1 div.sk-estimator:hover {background-color: #d4ebff;}#sk-container-id-1 div.sk-parallel-item::after {content: \"\";width: 100%;border-bottom: 1px solid gray;flex-grow: 1;}#sk-container-id-1 div.sk-label:hover label.sk-toggleable__label {background-color: #d4ebff;}#sk-container-id-1 div.sk-serial::before {content: \"\";position: absolute;border-left: 1px solid gray;box-sizing: border-box;top: 0;bottom: 0;left: 50%;z-index: 0;}#sk-container-id-1 div.sk-serial {display: flex;flex-direction: column;align-items: center;background-color: white;padding-right: 0.2em;padding-left: 0.2em;position: relative;}#sk-container-id-1 div.sk-item {position: relative;z-index: 1;}#sk-container-id-1 div.sk-parallel {display: flex;align-items: stretch;justify-content: center;background-color: white;position: relative;}#sk-container-id-1 div.sk-item::before, #sk-container-id-1 div.sk-parallel-item::before {content: \"\";position: absolute;border-left: 1px solid gray;box-sizing: border-box;top: 0;bottom: 0;left: 50%;z-index: -1;}#sk-container-id-1 div.sk-parallel-item {display: flex;flex-direction: column;z-index: 1;position: relative;background-color: white;}#sk-container-id-1 div.sk-parallel-item:first-child::after {align-self: flex-end;width: 50%;}#sk-container-id-1 div.sk-parallel-item:last-child::after {align-self: flex-start;width: 50%;}#sk-container-id-1 div.sk-parallel-item:only-child::after {width: 0;}#sk-container-id-1 div.sk-dashed-wrapped {border: 1px dashed gray;margin: 0 0.4em 0.5em 0.4em;box-sizing: border-box;padding-bottom: 0.4em;background-color: white;}#sk-container-id-1 div.sk-label label {font-family: monospace;font-weight: bold;display: inline-block;line-height: 1.2em;}#sk-container-id-1 div.sk-label-container {text-align: center;}#sk-container-id-1 div.sk-container {/* jupyter's `normalize.less` sets `[hidden] { display: none; }` but bootstrap.min.css set `[hidden] { display: none !important; }` so we also need the `!important` here to be able to override the default hidden behavior on the sphinx rendered scikit-learn.org. See: https://github.com/scikit-learn/scikit-learn/issues/21755 */display: inline-block !important;position: relative;}#sk-container-id-1 div.sk-text-repr-fallback {display: none;}</style><div id=\"sk-container-id-1\" class=\"sk-top-container\"><div class=\"sk-text-repr-fallback\"><pre>LinearRegression()</pre><b>In a Jupyter environment, please rerun this cell to show the HTML representation or trust the notebook. <br />On GitHub, the HTML representation is unable to render, please try loading this page with nbviewer.org.</b></div><div class=\"sk-container\" hidden><div class=\"sk-item\"><div class=\"sk-estimator sk-toggleable\"><input class=\"sk-toggleable__control sk-hidden--visually\" id=\"sk-estimator-id-1\" type=\"checkbox\" checked><label for=\"sk-estimator-id-1\" class=\"sk-toggleable__label sk-toggleable__label-arrow\">LinearRegression</label><div class=\"sk-toggleable__content\"><pre>LinearRegression()</pre></div></div></div></div></div>"
            ]
          },
          "metadata": {},
          "execution_count": 17
        }
      ]
    },
    {
      "cell_type": "code",
      "source": [
        "predictions = model.predict(X_test)"
      ],
      "metadata": {
        "id": "zVS1N1yTPQQR"
      },
      "execution_count": 18,
      "outputs": []
    },
    {
      "cell_type": "code",
      "source": [
        "mse = mean_squared_error(y_test, predictions)\n",
        "print(f'Mean Squared Error: {mse}')"
      ],
      "metadata": {
        "colab": {
          "base_uri": "https://localhost:8080/"
        },
        "id": "KaDFThdAPSH4",
        "outputId": "1d16fe72-c398-4881-8429-654d181701da"
      },
      "execution_count": 19,
      "outputs": [
        {
          "output_type": "stream",
          "name": "stdout",
          "text": [
            "Mean Squared Error: 17.5575245214454\n"
          ]
        }
      ]
    },
    {
      "cell_type": "code",
      "source": [
        "plt.scatter(y_test, predictions)\n",
        "plt.xlabel('Actual Prices')\n",
        "plt.ylabel('Predicted Prices')\n",
        "plt.title('Actual vs Predicted Prices')\n",
        "plt.show()"
      ],
      "metadata": {
        "colab": {
          "base_uri": "https://localhost:8080/",
          "height": 472
        },
        "id": "CjExiLCsPUct",
        "outputId": "ba17c7d2-3eb2-4a93-8324-23fe39f4e1dc"
      },
      "execution_count": 20,
      "outputs": [
        {
          "output_type": "display_data",
          "data": {
            "text/plain": [
              "<Figure size 640x480 with 1 Axes>"
            ],
            "image/png": "[encoded data removed]"
          },
          "metadata": {}
        }
      ]
    },
    {
      "cell_type": "code",
      "source": [
        "from sklearn.metrics import r2_score\n",
        "r_squared = r2_score(y_test, predictions)\n",
        "print(\"R-squared:\", r_squared)"
      ],
      "metadata": {
        "colab": {
          "base_uri": "https://localhost:8080/"
        },
        "id": "5e5EzjHJPV7b",
        "outputId": "99cbf411-5b92-4fdc-a75e-892e4aa5dce1"
      },
      "execution_count": 21,
      "outputs": [
        {
          "output_type": "stream",
          "name": "stdout",
          "text": [
            "R-squared: 0.9499419753834643\n"
          ]
        }
      ]
    },
    {
      "cell_type": "code",
      "source": [
        "future_data = pd.DataFrame({\n",
        "    ' prcp': [0.1, 0.2, 0.0],  # Example precipitation values for future dates\n",
        "    'tempmin': [20, 22, 21],   # Example minimum temperature values for future dates\n",
        "    'tempmax': [30, 32, 31],   # Example maximum temperature values for future dates\n",
        "    'temp': [25, 27, 26],      # Example temperature values for future dates\n",
        "    'humidity': [50, 60, 55],  # Example humidity values for future dates\n",
        "    'Maximum': [70, 65, 50] # Example maximum price values for future dates\n",
        "})"
      ],
      "metadata": {
        "id": "vX1Y6R6IWyrO"
      },
      "execution_count": 26,
      "outputs": []
    },
    {
      "cell_type": "code",
      "source": [
        "# Make predictions for future dates using the trained model\n",
        "future_predictions = model.predict(future_data)\n",
        "\n",
        "# Create a DataFrame with the future dates and corresponding predictions\n",
        "future_dates = pd.date_range(start='2024-01-01', end='2024-01-03')  # Example future dates\n",
        "future_predictions_df = pd.DataFrame({'Date': future_dates, 'Predicted_Price': future_predictions})\n",
        "\n",
        "# Display the predictions for future dates\n",
        "print(future_predictions_df)\n"
      ],
      "metadata": {
        "colab": {
          "base_uri": "https://localhost:8080/"
        },
        "id": "wGG2s2tyVqRD",
        "outputId": "97906abf-c8ea-494d-eaaf-4281771448cd"
      },
      "execution_count": 27,
      "outputs": [
        {
          "output_type": "stream",
          "name": "stdout",
          "text": [
            "        Date  Predicted_Price\n",
            "0 2024-01-01        59.160680\n",
            "1 2024-01-02        56.054463\n",
            "2 2024-01-03        44.047734\n"
          ]
        },
        {
          "output_type": "stream",
          "name": "stderr",
          "text": [
            "/usr/local/lib/python3.10/dist-packages/sklearn/base.py:432: UserWarning: X has feature names, but LinearRegression was fitted without feature names\n",
            "  warnings.warn(\n"
          ]
        }
      ]
    }
  ]
}