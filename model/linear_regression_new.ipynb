{
  "cells": [
    {
      "cell_type": "code",
      "execution_count": 46,
      "metadata": {
        "id": "zsOcaBRdC8Jf"
      },
      "outputs": [],
      "source": [
        "import pandas as pd\n",
        "from sklearn.model_selection import train_test_split\n",
        "from sklearn.preprocessing import StandardScaler\n",
        "import numpy as np\n",
        "from sklearn.linear_model import LinearRegression\n",
        "from sklearn.impute import SimpleImputer\n",
        "import matplotlib.pyplot as plt\n",
        "from dateutil import parser"
      ]
    },
    {
      "cell_type": "code",
      "execution_count": 47,
      "metadata": {
        "id": "B4v7szPuEtIV"
      },
      "outputs": [],
      "source": [
        "weather_data = pd.read_csv('weather_data.csv')\n",
        "price_data = pd.read_csv('crop_data.csv')"
      ]
    },
    {
      "cell_type": "code",
      "execution_count": 48,
      "metadata": {
        "colab": {
          "base_uri": "https://localhost:8080/"
        },
        "id": "YFNwxMV8FAcR",
        "outputId": "c0815145-bfe6-4a56-8333-3903f19c9897"
      },
      "outputs": [
        {
          "name": "stdout",
          "output_type": "stream",
          "text": [
            "            Date  tempmax  tempmin  temp  humidity   prcp\n",
            "0     2013-06-01     26.1     20.2  22.6      89.0   20.0\n",
            "1     2013-06-02     27.0     20.1  22.8      84.7    5.0\n",
            "2     2013-06-03     27.1     19.9  22.5      83.3    4.0\n",
            "3     2013-06-04     28.6     19.9  24.0      75.9    0.0\n",
            "4     2013-06-05     30.0     21.0  25.2      73.1    0.0\n",
            "...          ...      ...      ...   ...       ...    ...\n",
            "3861  2023-12-27     28.9     15.5  21.7      66.9    0.0\n",
            "3862  2023-12-28     27.9     17.9  22.4      74.4    0.0\n",
            "3863  2023-12-29     26.9     19.1  22.1      77.9    0.0\n",
            "3864  2023-12-30     29.8     18.9  23.2      72.6    0.0\n",
            "3865  2023-12-31     27.9     17.0  22.0      73.9    0.0\n",
            "\n",
            "[3866 rows x 6 columns]\n"
          ]
        }
      ],
      "source": [
        "import pandas as pd\n",
        "from dateutil import parser\n",
        "import numpy as np\n",
        "# date_formats = [\"%d/%m/%Y\", \"%d-%b-%Y\"]\n",
        "\n",
        "# Define a function to parse the date, handling NaN values\n",
        "def parse_date(x):\n",
        "    try:\n",
        "        return parser.parse(str(x), dayfirst=True, yearfirst=True)\n",
        "    except (TypeError, ValueError):\n",
        "        return np.nan\n",
        "\n",
        "# Apply the parsing function to the date column\n",
        "weather_data['Date'] = weather_data['Date'].apply(parse_date)\n",
        "\n",
        "# Convert to a standard format, for example, 'YYYY-MM-DD'\n",
        "weather_data['Date'] = pd.to_datetime(weather_data['Date']).dt.strftime('%Y-%m-%d')\n",
        "\n",
        "# Display the DataFrame\n",
        "weather_data.head()\n",
        "print(weather_data)"
      ]
    },
    {
      "cell_type": "code",
      "execution_count": 50,
      "metadata": {
        "colab": {
          "base_uri": "https://localhost:8080/"
        },
        "id": "Ek1rVfNYFFIZ",
        "outputId": "0cb32822-978d-4cb1-dc81-41245f344073"
      },
      "outputs": [
        {
          "name": "stdout",
          "output_type": "stream",
          "text": [
            "           Date    Minimum  Maximum    Average\n",
            "0    2013-06-01  21.272727     26.0  23.636364\n",
            "1    2013-06-02  21.272727     26.0  23.636364\n",
            "2    2013-06-03  21.272727     26.0  23.636364\n",
            "3    2013-06-04  21.272727     26.0  23.636364\n",
            "4    2013-06-05  21.272727     26.0  23.636364\n",
            "...         ...        ...      ...        ...\n",
            "3832 2023-11-28  15.000000     26.0  20.500000\n",
            "3833 2023-11-29   5.000000     26.0  15.500000\n",
            "3834 2023-11-30  15.000000     33.0  24.000000\n",
            "3835 2023-12-01  28.000000     30.0  29.000000\n",
            "3836 2023-12-02  20.000000     30.0  25.000000\n",
            "\n",
            "[3837 rows x 4 columns]\n"
          ]
        }
      ],
      "source": [
        "price_data['Date'] = pd.to_datetime(price_data['Date'], format='%d-%m-%Y')\n",
        "price_data.head()\n",
        "print(price_data)"
      ]
    },
    {
      "cell_type": "code",
      "execution_count": 51,
      "metadata": {
        "id": "MhiBbwM6NDom"
      },
      "outputs": [],
      "source": [
        "import pandas as pd\n",
        "\n",
        "# Assuming 'Date' column in weather_data is of type 'object'\n",
        "weather_data['Date'] = pd.to_datetime(weather_data['Date'])\n",
        "\n",
        "# Now you can perform the merge\n",
        "merged_data = pd.merge(weather_data, price_data, on='Date', how='right')"
      ]
    },
    {
      "cell_type": "code",
      "execution_count": 52,
      "metadata": {
        "colab": {
          "base_uri": "https://localhost:8080/",
          "height": 206
        },
        "id": "Rhdc3xCHNJv-",
        "outputId": "811c39a5-2b4d-4b1e-d6a1-d7d81db3cbb9"
      },
      "outputs": [
        {
          "data": {
            "text/html": [
              "\n",
              "  <div id=\"df-ccc7a33a-f09d-4ee1-b0e9-8532500fa38c\" class=\"colab-df-container\">\n",
              "    <div>\n",
              "<style scoped>\n",
              "    .dataframe tbody tr th:only-of-type {\n",
              "        vertical-align: middle;\n",
              "    }\n",
              "\n",
              "    .dataframe tbody tr th {\n",
              "        vertical-align: top;\n",
              "    }\n",
              "\n",
              "    .dataframe thead th {\n",
              "        text-align: right;\n",
              "    }\n",
              "</style>\n",
              "<table border=\"1\" class=\"dataframe\">\n",
              "  <thead>\n",
              "    <tr style=\"text-align: right;\">\n",
              "      <th></th>\n",
              "      <th>Date</th>\n",
              "      <th>tempmax</th>\n",
              "      <th>tempmin</th>\n",
              "      <th>temp</th>\n",
              "      <th>humidity</th>\n",
              "      <th>prcp</th>\n",
              "      <th>Minimum</th>\n",
              "      <th>Maximum</th>\n",
              "      <th>Average</th>\n",
              "    </tr>\n",
              "  </thead>\n",
              "  <tbody>\n",
              "    <tr>\n",
              "      <th>0</th>\n",
              "      <td>2013-06-01</td>\n",
              "      <td>26.1</td>\n",
              "      <td>20.2</td>\n",
              "      <td>22.6</td>\n",
              "      <td>89.0</td>\n",
              "      <td>20.0</td>\n",
              "      <td>21.272727</td>\n",
              "      <td>26.0</td>\n",
              "      <td>23.636364</td>\n",
              "    </tr>\n",
              "    <tr>\n",
              "      <th>1</th>\n",
              "      <td>2013-06-02</td>\n",
              "      <td>27.0</td>\n",
              "      <td>20.1</td>\n",
              "      <td>22.8</td>\n",
              "      <td>84.7</td>\n",
              "      <td>5.0</td>\n",
              "      <td>21.272727</td>\n",
              "      <td>26.0</td>\n",
              "      <td>23.636364</td>\n",
              "    </tr>\n",
              "    <tr>\n",
              "      <th>2</th>\n",
              "      <td>2013-06-03</td>\n",
              "      <td>27.1</td>\n",
              "      <td>19.9</td>\n",
              "      <td>22.5</td>\n",
              "      <td>83.3</td>\n",
              "      <td>4.0</td>\n",
              "      <td>21.272727</td>\n",
              "      <td>26.0</td>\n",
              "      <td>23.636364</td>\n",
              "    </tr>\n",
              "    <tr>\n",
              "      <th>3</th>\n",
              "      <td>2013-06-04</td>\n",
              "      <td>28.6</td>\n",
              "      <td>19.9</td>\n",
              "      <td>24.0</td>\n",
              "      <td>75.9</td>\n",
              "      <td>0.0</td>\n",
              "      <td>21.272727</td>\n",
              "      <td>26.0</td>\n",
              "      <td>23.636364</td>\n",
              "    </tr>\n",
              "    <tr>\n",
              "      <th>4</th>\n",
              "      <td>2013-06-05</td>\n",
              "      <td>30.0</td>\n",
              "      <td>21.0</td>\n",
              "      <td>25.2</td>\n",
              "      <td>73.1</td>\n",
              "      <td>0.0</td>\n",
              "      <td>21.272727</td>\n",
              "      <td>26.0</td>\n",
              "      <td>23.636364</td>\n",
              "    </tr>\n",
              "  </tbody>\n",
              "</table>\n",
              "</div>\n",
              "    <div class=\"colab-df-buttons\">\n",
              "\n",
              "  <div class=\"colab-df-container\">\n",
              "    <button class=\"colab-df-convert\" onclick=\"convertToInteractive('df-ccc7a33a-f09d-4ee1-b0e9-8532500fa38c')\"\n",
              "            title=\"Convert this dataframe to an interactive table.\"\n",
              "            style=\"display:none;\">\n",
              "\n",
              "  <svg xmlns=\"http://www.w3.org/2000/svg\" height=\"24px\" viewBox=\"0 -960 960 960\">\n",
              "    <path d=\"M120-120v-720h720v720H120Zm60-500h600v-160H180v160Zm220 220h160v-160H400v160Zm0 220h160v-160H400v160ZM180-400h160v-160H180v160Zm440 0h160v-160H620v160ZM180-180h160v-160H180v160Zm440 0h160v-160H620v160Z\"/>\n",
              "  </svg>\n",
              "    </button>\n",
              "\n",
              "  <style>\n",
              "    .colab-df-container {\n",
              "      display:flex;\n",
              "      gap: 12px;\n",
              "    }\n",
              "\n",
              "    .colab-df-convert {\n",
              "      background-color: #E8F0FE;\n",
              "      border: none;\n",
              "      border-radius: 50%;\n",
              "      cursor: pointer;\n",
              "      display: none;\n",
              "      fill: #1967D2;\n",
              "      height: 32px;\n",
              "      padding: 0 0 0 0;\n",
              "      width: 32px;\n",
              "    }\n",
              "\n",
              "    .colab-df-convert:hover {\n",
              "      background-color: #E2EBFA;\n",
              "      box-shadow: 0px 1px 2px rgba(60, 64, 67, 0.3), 0px 1px 3px 1px rgba(60, 64, 67, 0.15);\n",
              "      fill: #174EA6;\n",
              "    }\n",
              "\n",
              "    .colab-df-buttons div {\n",
              "      margin-bottom: 4px;\n",
              "    }\n",
              "\n",
              "    [theme=dark] .colab-df-convert {\n",
              "      background-color: #3B4455;\n",
              "      fill: #D2E3FC;\n",
              "    }\n",
              "\n",
              "    [theme=dark] .colab-df-convert:hover {\n",
              "      background-color: #434B5C;\n",
              "      box-shadow: 0px 1px 3px 1px rgba(0, 0, 0, 0.15);\n",
              "      filter: drop-shadow(0px 1px 2px rgba(0, 0, 0, 0.3));\n",
              "      fill: #FFFFFF;\n",
              "    }\n",
              "  </style>\n",
              "\n",
              "    <script>\n",
              "      const buttonEl =\n",
              "        document.querySelector('#df-ccc7a33a-f09d-4ee1-b0e9-8532500fa38c button.colab-df-convert');\n",
              "      buttonEl.style.display =\n",
              "        google.colab.kernel.accessAllowed ? 'block' : 'none';\n",
              "\n",
              "      async function convertToInteractive(key) {\n",
              "        const element = document.querySelector('#df-ccc7a33a-f09d-4ee1-b0e9-8532500fa38c');\n",
              "        const dataTable =\n",
              "          await google.colab.kernel.invokeFunction('convertToInteractive',\n",
              "                                                    [key], {});\n",
              "        if (!dataTable) return;\n",
              "\n",
              "        const docLinkHtml = 'Like what you see? Visit the ' +\n",
              "          '<a target=\"_blank\" href=https://colab.research.google.com/notebooks/data_table.ipynb>data table notebook</a>'\n",
              "          + ' to learn more about interactive tables.';\n",
              "        element.innerHTML = '';\n",
              "        dataTable['output_type'] = 'display_data';\n",
              "        await google.colab.output.renderOutput(dataTable, element);\n",
              "        const docLink = document.createElement('div');\n",
              "        docLink.innerHTML = docLinkHtml;\n",
              "        element.appendChild(docLink);\n",
              "      }\n",
              "    </script>\n",
              "  </div>\n",
              "\n",
              "\n",
              "<div id=\"df-474f5162-14a5-418f-be84-dbb8c56bae1e\">\n",
              "  <button class=\"colab-df-quickchart\" onclick=\"quickchart('df-474f5162-14a5-418f-be84-dbb8c56bae1e')\"\n",
              "            title=\"Suggest charts\"\n",
              "            style=\"display:none;\">\n",
              "\n",
              "<svg xmlns=\"http://www.w3.org/2000/svg\" height=\"24px\"viewBox=\"0 0 24 24\"\n",
              "     width=\"24px\">\n",
              "    <g>\n",
              "        <path d=\"M19 3H5c-1.1 0-2 .9-2 2v14c0 1.1.9 2 2 2h14c1.1 0 2-.9 2-2V5c0-1.1-.9-2-2-2zM9 17H7v-7h2v7zm4 0h-2V7h2v10zm4 0h-2v-4h2v4z\"/>\n",
              "    </g>\n",
              "</svg>\n",
              "  </button>\n",
              "\n",
              "<style>\n",
              "  .colab-df-quickchart {\n",
              "      --bg-color: #E8F0FE;\n",
              "      --fill-color: #1967D2;\n",
              "      --hover-bg-color: #E2EBFA;\n",
              "      --hover-fill-color: #174EA6;\n",
              "      --disabled-fill-color: #AAA;\n",
              "      --disabled-bg-color: #DDD;\n",
              "  }\n",
              "\n",
              "  [theme=dark] .colab-df-quickchart {\n",
              "      --bg-color: #3B4455;\n",
              "      --fill-color: #D2E3FC;\n",
              "      --hover-bg-color: #434B5C;\n",
              "      --hover-fill-color: #FFFFFF;\n",
              "      --disabled-bg-color: #3B4455;\n",
              "      --disabled-fill-color: #666;\n",
              "  }\n",
              "\n",
              "  .colab-df-quickchart {\n",
              "    background-color: var(--bg-color);\n",
              "    border: none;\n",
              "    border-radius: 50%;\n",
              "    cursor: pointer;\n",
              "    display: none;\n",
              "    fill: var(--fill-color);\n",
              "    height: 32px;\n",
              "    padding: 0;\n",
              "    width: 32px;\n",
              "  }\n",
              "\n",
              "  .colab-df-quickchart:hover {\n",
              "    background-color: var(--hover-bg-color);\n",
              "    box-shadow: 0 1px 2px rgba(60, 64, 67, 0.3), 0 1px 3px 1px rgba(60, 64, 67, 0.15);\n",
              "    fill: var(--button-hover-fill-color);\n",
              "  }\n",
              "\n",
              "  .colab-df-quickchart-complete:disabled,\n",
              "  .colab-df-quickchart-complete:disabled:hover {\n",
              "    background-color: var(--disabled-bg-color);\n",
              "    fill: var(--disabled-fill-color);\n",
              "    box-shadow: none;\n",
              "  }\n",
              "\n",
              "  .colab-df-spinner {\n",
              "    border: 2px solid var(--fill-color);\n",
              "    border-color: transparent;\n",
              "    border-bottom-color: var(--fill-color);\n",
              "    animation:\n",
              "      spin 1s steps(1) infinite;\n",
              "  }\n",
              "\n",
              "  @keyframes spin {\n",
              "    0% {\n",
              "      border-color: transparent;\n",
              "      border-bottom-color: var(--fill-color);\n",
              "      border-left-color: var(--fill-color);\n",
              "    }\n",
              "    20% {\n",
              "      border-color: transparent;\n",
              "      border-left-color: var(--fill-color);\n",
              "      border-top-color: var(--fill-color);\n",
              "    }\n",
              "    30% {\n",
              "      border-color: transparent;\n",
              "      border-left-color: var(--fill-color);\n",
              "      border-top-color: var(--fill-color);\n",
              "      border-right-color: var(--fill-color);\n",
              "    }\n",
              "    40% {\n",
              "      border-color: transparent;\n",
              "      border-right-color: var(--fill-color);\n",
              "      border-top-color: var(--fill-color);\n",
              "    }\n",
              "    60% {\n",
              "      border-color: transparent;\n",
              "      border-right-color: var(--fill-color);\n",
              "    }\n",
              "    80% {\n",
              "      border-color: transparent;\n",
              "      border-right-color: var(--fill-color);\n",
              "      border-bottom-color: var(--fill-color);\n",
              "    }\n",
              "    90% {\n",
              "      border-color: transparent;\n",
              "      border-bottom-color: var(--fill-color);\n",
              "    }\n",
              "  }\n",
              "</style>\n",
              "\n",
              "  <script>\n",
              "    async function quickchart(key) {\n",
              "      const quickchartButtonEl =\n",
              "        document.querySelector('#' + key + ' button');\n",
              "      quickchartButtonEl.disabled = true;  // To prevent multiple clicks.\n",
              "      quickchartButtonEl.classList.add('colab-df-spinner');\n",
              "      try {\n",
              "        const charts = await google.colab.kernel.invokeFunction(\n",
              "            'suggestCharts', [key], {});\n",
              "      } catch (error) {\n",
              "        console.error('Error during call to suggestCharts:', error);\n",
              "      }\n",
              "      quickchartButtonEl.classList.remove('colab-df-spinner');\n",
              "      quickchartButtonEl.classList.add('colab-df-quickchart-complete');\n",
              "    }\n",
              "    (() => {\n",
              "      let quickchartButtonEl =\n",
              "        document.querySelector('#df-474f5162-14a5-418f-be84-dbb8c56bae1e button');\n",
              "      quickchartButtonEl.style.display =\n",
              "        google.colab.kernel.accessAllowed ? 'block' : 'none';\n",
              "    })();\n",
              "  </script>\n",
              "</div>\n",
              "\n",
              "    </div>\n",
              "  </div>\n"
            ],
            "text/plain": [
              "        Date  tempmax  tempmin  temp  humidity   prcp    Minimum  Maximum  \\\n",
              "0 2013-06-01     26.1     20.2  22.6      89.0   20.0  21.272727     26.0   \n",
              "1 2013-06-02     27.0     20.1  22.8      84.7    5.0  21.272727     26.0   \n",
              "2 2013-06-03     27.1     19.9  22.5      83.3    4.0  21.272727     26.0   \n",
              "3 2013-06-04     28.6     19.9  24.0      75.9    0.0  21.272727     26.0   \n",
              "4 2013-06-05     30.0     21.0  25.2      73.1    0.0  21.272727     26.0   \n",
              "\n",
              "     Average  \n",
              "0  23.636364  \n",
              "1  23.636364  \n",
              "2  23.636364  \n",
              "3  23.636364  \n",
              "4  23.636364  "
            ]
          },
          "execution_count": 52,
          "metadata": {},
          "output_type": "execute_result"
        }
      ],
      "source": [
        "merged_data.head()"
      ]
    },
    {
      "cell_type": "code",
      "execution_count": 53,
      "metadata": {
        "colab": {
          "base_uri": "https://localhost:8080/"
        },
        "id": "niUSGecUNNlE",
        "outputId": "aa9b9f51-3eaf-494a-f8bd-e26941fc72d9"
      },
      "outputs": [
        {
          "name": "stdout",
          "output_type": "stream",
          "text": [
            "           Date  tempmax  tempmin  temp  humidity    prcp    Minimum  Maximum  \\\n",
            "0    2013-06-01     26.1     20.2  22.6      89.0  20.000  21.272727     26.0   \n",
            "1    2013-06-02     27.0     20.1  22.8      84.7   5.000  21.272727     26.0   \n",
            "2    2013-06-03     27.1     19.9  22.5      83.3   4.000  21.272727     26.0   \n",
            "3    2013-06-04     28.6     19.9  24.0      75.9   0.000  21.272727     26.0   \n",
            "4    2013-06-05     30.0     21.0  25.2      73.1   0.000  21.272727     26.0   \n",
            "...         ...      ...      ...   ...       ...     ...        ...      ...   \n",
            "3832 2023-11-28     27.9     20.4  23.7      80.3   0.200  15.000000     26.0   \n",
            "3833 2023-11-29     27.9     21.1  23.7      80.8   0.019   5.000000     26.0   \n",
            "3834 2023-11-30     28.9     20.1  23.4      80.8   0.100  15.000000     33.0   \n",
            "3835 2023-12-01     27.8     20.1  23.6      80.5   0.013  28.000000     30.0   \n",
            "3836 2023-12-02     27.8     19.2  23.2      80.5   0.700  20.000000     30.0   \n",
            "\n",
            "        Average  \n",
            "0     23.636364  \n",
            "1     23.636364  \n",
            "2     23.636364  \n",
            "3     23.636364  \n",
            "4     23.636364  \n",
            "...         ...  \n",
            "3832  20.500000  \n",
            "3833  15.500000  \n",
            "3834  24.000000  \n",
            "3835  29.000000  \n",
            "3836  25.000000  \n",
            "\n",
            "[3837 rows x 9 columns]\n"
          ]
        }
      ],
      "source": [
        "print(merged_data)"
      ]
    },
    {
      "cell_type": "code",
      "execution_count": 54,
      "metadata": {
        "id": "Nd9tCbs3QVYc"
      },
      "outputs": [],
      "source": [
        "merged_data.to_csv('merged_data.csv', index=False)"
      ]
    },
    {
      "cell_type": "code",
      "execution_count": 55,
      "metadata": {
        "id": "27jT19ZaOgta"
      },
      "outputs": [],
      "source": [
        "date = merged_data['Date']\n",
        "precipitation = merged_data[' prcp']\n",
        "price = merged_data['Average']"
      ]
    },
    {
      "cell_type": "code",
      "execution_count": 56,
      "metadata": {
        "id": "JmTgcnwqOxha"
      },
      "outputs": [],
      "source": [
        "merged_data['Date'] = pd.to_datetime(merged_data['Date'])"
      ]
    },
    {
      "cell_type": "code",
      "execution_count": 57,
      "metadata": {
        "colab": {
          "base_uri": "https://localhost:8080/",
          "height": 581
        },
        "id": "cGZZslgxOzAU",
        "outputId": "2b5a0963-9a54-4830-c930-40d6d32fae37"
      },
      "outputs": [
        {
          "data": {
            "text/plain": [
              "<matplotlib.legend.Legend at 0x78da92122b60>"
            ]
          },
          "execution_count": 57,
          "metadata": {},
          "output_type": "execute_result"
        },
        {
          "data": {
            "image/png": "[encoded data removed]",
            "text/plain": [
              "<Figure size 1200x600 with 1 Axes>"
            ]
          },
          "metadata": {},
          "output_type": "display_data"
        }
      ],
      "source": [
        "plt.figure(figsize=(12, 6))\n",
        "plt.plot(date, precipitation, label='Precipitation', marker='o', linestyle='-', color='blue')\n",
        "plt.plot(date, price, label='Price', marker='o', linestyle='-', color='green')\n",
        "plt.title('Precipitation and Price Over Time')\n",
        "plt.xlabel('Date')\n",
        "plt.ylabel('Values')\n",
        "plt.legend()"
      ]
    },
    {
      "cell_type": "code",
      "execution_count": 58,
      "metadata": {
        "id": "C25BabkxO1Ps"
      },
      "outputs": [],
      "source": [
        "import pandas as pd\n",
        "import numpy as np\n",
        "import matplotlib.pyplot as plt\n",
        "from sklearn.model_selection import train_test_split\n",
        "from sklearn.linear_model import LinearRegression\n",
        "from sklearn.impute import SimpleImputer\n",
        "from sklearn.metrics import mean_squared_error\n",
        "from statsmodels.tsa.statespace.sarimax import SARIMAX\n",
        "from statsmodels.graphics.tsaplots import plot_acf, plot_pacf"
      ]
    },
    {
      "cell_type": "code",
      "execution_count": 68,
      "metadata": {
        "id": "j-IZJGXPO4pJ"
      },
      "outputs": [],
      "source": [
        "features = merged_data[[' prcp', 'tempmin', 'tempmax', 'temp', 'humidity', 'Minimum', 'Maximum']]\n",
        "target = merged_data['Average']"
      ]
    },
    {
      "cell_type": "code",
      "execution_count": 69,
      "metadata": {
        "id": "44gfHJGJPMy0"
      },
      "outputs": [],
      "source": [
        "imputer = SimpleImputer(strategy='mean')  # You can choose other strategies like 'median' or 'most_frequent'\n",
        "features_imputed = imputer.fit_transform(features)"
      ]
    },
    {
      "cell_type": "code",
      "execution_count": 70,
      "metadata": {
        "id": "bhGXSSR2PNHy"
      },
      "outputs": [],
      "source": [
        "X_train, X_test, y_train, y_test = train_test_split(features_imputed, target, test_size=0.2, random_state=42)"
      ]
    },
    {
      "cell_type": "code",
      "execution_count": 71,
      "metadata": {
        "colab": {
          "base_uri": "https://localhost:8080/",
          "height": 74
        },
        "id": "cdwsHX3GPOsS",
        "outputId": "2e2ee263-5ef3-4e54-92eb-57df647a9f15"
      },
      "outputs": [
        {
          "data": {
            "text/html": [
              "<style>#sk-container-id-3 {color: black;background-color: white;}#sk-container-id-3 pre{padding: 0;}#sk-container-id-3 div.sk-toggleable {background-color: white;}#sk-container-id-3 label.sk-toggleable__label {cursor: pointer;display: block;width: 100%;margin-bottom: 0;padding: 0.3em;box-sizing: border-box;text-align: center;}#sk-container-id-3 label.sk-toggleable__label-arrow:before {content: \"▸\";float: left;margin-right: 0.25em;color: #696969;}#sk-container-id-3 label.sk-toggleable__label-arrow:hover:before {color: black;}#sk-container-id-3 div.sk-estimator:hover label.sk-toggleable__label-arrow:before {color: black;}#sk-container-id-3 div.sk-toggleable__content {max-height: 0;max-width: 0;overflow: hidden;text-align: left;background-color: #f0f8ff;}#sk-container-id-3 div.sk-toggleable__content pre {margin: 0.2em;color: black;border-radius: 0.25em;background-color: #f0f8ff;}#sk-container-id-3 input.sk-toggleable__control:checked~div.sk-toggleable__content {max-height: 200px;max-width: 100%;overflow: auto;}#sk-container-id-3 input.sk-toggleable__control:checked~label.sk-toggleable__label-arrow:before {content: \"▾\";}#sk-container-id-3 div.sk-estimator input.sk-toggleable__control:checked~label.sk-toggleable__label {background-color: #d4ebff;}#sk-container-id-3 div.sk-label input.sk-toggleable__control:checked~label.sk-toggleable__label {background-color: #d4ebff;}#sk-container-id-3 input.sk-hidden--visually {border: 0;clip: rect(1px 1px 1px 1px);clip: rect(1px, 1px, 1px, 1px);height: 1px;margin: -1px;overflow: hidden;padding: 0;position: absolute;width: 1px;}#sk-container-id-3 div.sk-estimator {font-family: monospace;background-color: #f0f8ff;border: 1px dotted black;border-radius: 0.25em;box-sizing: border-box;margin-bottom: 0.5em;}#sk-container-id-3 div.sk-estimator:hover {background-color: #d4ebff;}#sk-container-id-3 div.sk-parallel-item::after {content: \"\";width: 100%;border-bottom: 1px solid gray;flex-grow: 1;}#sk-container-id-3 div.sk-label:hover label.sk-toggleable__label {background-color: #d4ebff;}#sk-container-id-3 div.sk-serial::before {content: \"\";position: absolute;border-left: 1px solid gray;box-sizing: border-box;top: 0;bottom: 0;left: 50%;z-index: 0;}#sk-container-id-3 div.sk-serial {display: flex;flex-direction: column;align-items: center;background-color: white;padding-right: 0.2em;padding-left: 0.2em;position: relative;}#sk-container-id-3 div.sk-item {position: relative;z-index: 1;}#sk-container-id-3 div.sk-parallel {display: flex;align-items: stretch;justify-content: center;background-color: white;position: relative;}#sk-container-id-3 div.sk-item::before, #sk-container-id-3 div.sk-parallel-item::before {content: \"\";position: absolute;border-left: 1px solid gray;box-sizing: border-box;top: 0;bottom: 0;left: 50%;z-index: -1;}#sk-container-id-3 div.sk-parallel-item {display: flex;flex-direction: column;z-index: 1;position: relative;background-color: white;}#sk-container-id-3 div.sk-parallel-item:first-child::after {align-self: flex-end;width: 50%;}#sk-container-id-3 div.sk-parallel-item:last-child::after {align-self: flex-start;width: 50%;}#sk-container-id-3 div.sk-parallel-item:only-child::after {width: 0;}#sk-container-id-3 div.sk-dashed-wrapped {border: 1px dashed gray;margin: 0 0.4em 0.5em 0.4em;box-sizing: border-box;padding-bottom: 0.4em;background-color: white;}#sk-container-id-3 div.sk-label label {font-family: monospace;font-weight: bold;display: inline-block;line-height: 1.2em;}#sk-container-id-3 div.sk-label-container {text-align: center;}#sk-container-id-3 div.sk-container {/* jupyter's `normalize.less` sets `[hidden] { display: none; }` but bootstrap.min.css set `[hidden] { display: none !important; }` so we also need the `!important` here to be able to override the default hidden behavior on the sphinx rendered scikit-learn.org. See: https://github.com/scikit-learn/scikit-learn/issues/21755 */display: inline-block !important;position: relative;}#sk-container-id-3 div.sk-text-repr-fallback {display: none;}</style><div id=\"sk-container-id-3\" class=\"sk-top-container\"><div class=\"sk-text-repr-fallback\"><pre>LinearRegression()</pre><b>In a Jupyter environment, please rerun this cell to show the HTML representation or trust the notebook. <br />On GitHub, the HTML representation is unable to render, please try loading this page with nbviewer.org.</b></div><div class=\"sk-container\" hidden><div class=\"sk-item\"><div class=\"sk-estimator sk-toggleable\"><input class=\"sk-toggleable__control sk-hidden--visually\" id=\"sk-estimator-id-3\" type=\"checkbox\" checked><label for=\"sk-estimator-id-3\" class=\"sk-toggleable__label sk-toggleable__label-arrow\">LinearRegression</label><div class=\"sk-toggleable__content\"><pre>LinearRegression()</pre></div></div></div></div></div>"
            ],
            "text/plain": [
              "LinearRegression()"
            ]
          },
          "execution_count": 71,
          "metadata": {},
          "output_type": "execute_result"
        }
      ],
      "source": [
        "model = LinearRegression()\n",
        "model.fit(X_train, y_train)"
      ]
    },
    {
      "cell_type": "code",
      "execution_count": 72,
      "metadata": {
        "id": "zVS1N1yTPQQR"
      },
      "outputs": [],
      "source": [
        "predictions = model.predict(X_test)"
      ]
    },
    {
      "cell_type": "code",
      "execution_count": 73,
      "metadata": {
        "colab": {
          "base_uri": "https://localhost:8080/"
        },
        "id": "KaDFThdAPSH4",
        "outputId": "2718cb2a-b213-48f4-88ca-eb5e51404a1e"
      },
      "outputs": [
        {
          "name": "stdout",
          "output_type": "stream",
          "text": [
            "Mean Squared Error: 5.906776287454061e-19\n"
          ]
        }
      ],
      "source": [
        "mse = mean_squared_error(y_test, predictions)\n",
        "print(f'Mean Squared Error: {mse}')"
      ]
    },
    {
      "cell_type": "code",
      "execution_count": 74,
      "metadata": {
        "colab": {
          "base_uri": "https://localhost:8080/",
          "height": 472
        },
        "id": "CjExiLCsPUct",
        "outputId": "f0b1bd10-86f3-41de-a6a2-06980f4344b5"
      },
      "outputs": [
        {
          "data": {
            "image/png": "[encoded data removed]",
            "text/plain": [
              "<Figure size 640x480 with 1 Axes>"
            ]
          },
          "metadata": {},
          "output_type": "display_data"
        }
      ],
      "source": [
        "plt.scatter(y_test, predictions)\n",
        "plt.xlabel('Actual Prices')\n",
        "plt.ylabel('Predicted Prices')\n",
        "plt.title('Actual vs Predicted Prices')\n",
        "plt.show()"
      ]
    },
    {
      "cell_type": "code",
      "execution_count": 75,
      "metadata": {
        "colab": {
          "base_uri": "https://localhost:8080/"
        },
        "id": "5e5EzjHJPV7b",
        "outputId": "dab90840-6f2b-4aa9-c859-98341721b7a3"
      },
      "outputs": [
        {
          "name": "stdout",
          "output_type": "stream",
          "text": [
            "R-squared: 1.0\n"
          ]
        }
      ],
      "source": [
        "from sklearn.metrics import r2_score\n",
        "r_squared = r2_score(y_test, predictions)\n",
        "print(\"R-squared:\", r_squared)"
      ]
    },
    {
      "cell_type": "code",
      "execution_count": 82,
      "metadata": {
        "id": "vX1Y6R6IWyrO"
      },
      "outputs": [],
      "source": [
        "future_data = pd.DataFrame({\n",
        "    ' prcp': [0.1, 0.2, 0.0],  # Example precipitation values for future dates\n",
        "    'tempmin': [20, 22, 21],   # Example minimum temperature values for future dates\n",
        "    'tempmax': [30, 32, 31],   # Example maximum temperature values for future dates\n",
        "    'temp': [25, 27, 26],      # Example temperature values for future dates\n",
        "    'humidity': [50, 60, 55],  # Example humidity values for future dates\n",
        "    'Minimum': [100, 110, 105],# Example minimum price values for future dates\n",
        "    'Maximum': [150, 160, 155] # Example maximum price values for future dates\n",
        "})"
      ]
    },
    {
      "cell_type": "code",
      "execution_count": 86,
      "metadata": {
        "colab": {
          "base_uri": "https://localhost:8080/"
        },
        "id": "wGG2s2tyVqRD",
        "outputId": "7ab9095a-1234-4035-b55f-2017d2f2d290"
      },
      "outputs": [
        {
          "name": "stdout",
          "output_type": "stream",
          "text": [
            "        Date  Predicted_Price\n",
            "0 2024-01-01            125.0\n",
            "1 2024-01-02            135.0\n",
            "2 2024-01-03            130.0\n"
          ]
        },
        {
          "name": "stderr",
          "output_type": "stream",
          "text": [
            "/usr/local/lib/python3.10/dist-packages/sklearn/base.py:432: UserWarning: X has feature names, but LinearRegression was fitted without feature names\n",
            "  warnings.warn(\n"
          ]
        }
      ],
      "source": [
        "# Make predictions for future dates using the trained model\n",
        "future_predictions = model.predict(future_data)\n",
        "\n",
        "# Create a DataFrame with the future dates and corresponding predictions\n",
        "future_dates = pd.date_range(start='2024-01-01', end='2024-01-03')  # Example future dates\n",
        "future_predictions_df = pd.DataFrame({'Date': future_dates, 'Predicted_Price': future_predictions})\n",
        "\n",
        "# Display the predictions for future dates\n",
        "print(future_predictions_df)\n"
      ]
    }
  ],
  "metadata": {
    "colab": {
      "provenance": []
    },
    "kernelspec": {
      "display_name": "Python 3",
      "name": "python3"
    },
    "language_info": {
      "name": "python",
      "version": "3.9.1"
    }
  },
  "nbformat": 4,
  "nbformat_minor": 0
}
