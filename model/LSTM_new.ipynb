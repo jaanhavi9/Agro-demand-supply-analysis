{
  "nbformat": 4,
  "nbformat_minor": 0,
  "metadata": {
    "colab": {
      "provenance": []
    },
    "kernelspec": {
      "name": "python3",
      "display_name": "Python 3"
    },
    "language_info": {
      "name": "python"
    }
  },
  "cells": [
    {
      "cell_type": "code",
      "execution_count": null,
      "metadata": {
        "id": "vjkM3V_9HW0O"
      },
      "outputs": [],
      "source": [
        "import pandas as pd\n",
        "from sklearn.model_selection import train_test_split\n",
        "from sklearn.preprocessing import StandardScaler\n",
        "import numpy as np\n",
        "from sklearn.impute import SimpleImputer\n",
        "import matplotlib.pyplot as plt\n",
        "from dateutil import parser\n",
        "from numpy import concatenate\n",
        "from pandas import read_csv\n",
        "from pandas import DataFrame\n",
        "from pandas import concat\n",
        "from matplotlib import pyplot\n",
        "from sklearn.preprocessing import MinMaxScaler\n",
        "from sklearn.metrics import mean_squared_error\n",
        "from keras.models import Sequential\n",
        "from keras.layers import Dense\n",
        "from keras.layers import LSTM"
      ]
    },
    {
      "cell_type": "code",
      "source": [
        "merged_data = pd.read_csv('merged_data.csv')"
      ],
      "metadata": {
        "id": "5y44TnA3HeXF"
      },
      "execution_count": null,
      "outputs": []
    },
    {
      "cell_type": "code",
      "source": [
        "print(merged_data)"
      ],
      "metadata": {
        "colab": {
          "base_uri": "https://localhost:8080/"
        },
        "id": "XUl5ndXZHmxQ",
        "outputId": "1b2762bc-fff4-47b7-ac45-94e89d88a311"
      },
      "execution_count": null,
      "outputs": [
        {
          "output_type": "stream",
          "name": "stdout",
          "text": [
            "            Date  tempmax  tempmin  temp  humidity    prcp    Minimum  \\\n",
            "0     01-06-2013     26.1     20.2  22.6      89.0  20.000  21.272727   \n",
            "1     02-06-2013     27.0     20.1  22.8      84.7   5.000  21.272727   \n",
            "2     03-06-2013     27.1     19.9  22.5      83.3   4.000  21.272727   \n",
            "3     04-06-2013     28.6     19.9  24.0      75.9   0.000  21.272727   \n",
            "4     05-06-2013     30.0     21.0  25.2      73.1   0.000  21.272727   \n",
            "...          ...      ...      ...   ...       ...     ...        ...   \n",
            "3832  28-11-2023     27.9     20.4  23.7      80.3   0.200  15.000000   \n",
            "3833  29-11-2023     27.9     21.1  23.7      80.8   0.019   5.000000   \n",
            "3834  30-11-2023     28.9     20.1  23.4      80.8   0.100  15.000000   \n",
            "3835  01-12-2023     27.8     20.1  23.6      80.5   0.013  28.000000   \n",
            "3836  02-12-2023     27.8     19.2  23.2      80.5   0.700  20.000000   \n",
            "\n",
            "      Maximum    Average  \n",
            "0        26.0  23.636364  \n",
            "1        26.0  23.636364  \n",
            "2        26.0  23.636364  \n",
            "3        26.0  23.636364  \n",
            "4        26.0  23.636364  \n",
            "...       ...        ...  \n",
            "3832     26.0  20.500000  \n",
            "3833     26.0  15.500000  \n",
            "3834     33.0  24.000000  \n",
            "3835     30.0  29.000000  \n",
            "3836     30.0  25.000000  \n",
            "\n",
            "[3837 rows x 9 columns]\n"
          ]
        }
      ]
    },
    {
      "cell_type": "code",
      "source": [
        "date = merged_data['Date']\n",
        "precipitation = merged_data[' prcp']\n",
        "price = merged_data['Average']"
      ],
      "metadata": {
        "id": "AH9T86dQHsKj"
      },
      "execution_count": null,
      "outputs": []
    },
    {
      "cell_type": "code",
      "source": [
        "\n",
        "merged_data['Date'] = pd.to_datetime(merged_data['Date'])"
      ],
      "metadata": {
        "colab": {
          "base_uri": "https://localhost:8080/"
        },
        "id": "IQ47LjsCH1L_",
        "outputId": "6bef1016-3217-42fc-a04d-4b175327e17a"
      },
      "execution_count": null,
      "outputs": [
        {
          "output_type": "stream",
          "name": "stderr",
          "text": [
            "<ipython-input-7-ead1b8c69bc7>:1: UserWarning: Parsing dates in DD/MM/YYYY format when dayfirst=False (the default) was specified. This may lead to inconsistently parsed dates! Specify a format to ensure consistent parsing.\n",
            "  merged_data['Date'] = pd.to_datetime(merged_data['Date'])\n"
          ]
        }
      ]
    },
    {
      "cell_type": "code",
      "source": [
        "features = merged_data[[' prcp', 'tempmin', 'tempmax', 'temp', 'Minimum', 'Maximum']]\n",
        "target = merged_data['Average']"
      ],
      "metadata": {
        "id": "CjOqdhqNH6pl"
      },
      "execution_count": null,
      "outputs": []
    },
    {
      "cell_type": "code",
      "source": [
        "scaler = MinMaxScaler()\n",
        "features_scaled = scaler.fit_transform(features)"
      ],
      "metadata": {
        "id": "5rVIVJc9IAlP"
      },
      "execution_count": null,
      "outputs": []
    },
    {
      "cell_type": "code",
      "source": [
        "X_train, X_test, y_train, y_test = train_test_split(features_scaled, target, test_size=0.2, random_state=42)"
      ],
      "metadata": {
        "id": "KUvljnqrIDBL"
      },
      "execution_count": null,
      "outputs": []
    },
    {
      "cell_type": "code",
      "source": [
        "X_train = np.reshape(X_train, (X_train.shape[0], 1, X_train.shape[1]))\n",
        "X_test = np.reshape(X_test, (X_test.shape[0], 1, X_test.shape[1]))"
      ],
      "metadata": {
        "id": "CeWfTYDFIFFr"
      },
      "execution_count": null,
      "outputs": []
    },
    {
      "cell_type": "code",
      "source": [
        "model = Sequential()\n",
        "model.add(LSTM(units=50, activation='relu', input_shape=(X_train.shape[1], X_train.shape[2])))\n",
        "model.add(Dense(units=1))\n",
        "model.compile(optimizer='adam', loss='mean_squared_error')"
      ],
      "metadata": {
        "id": "E87vI11vIH5Q"
      },
      "execution_count": null,
      "outputs": []
    },
    {
      "cell_type": "code",
      "source": [
        "model.fit(X_train, y_train, epochs=50, batch_size=32, validation_data=(X_test, y_test))"
      ],
      "metadata": {
        "colab": {
          "base_uri": "https://localhost:8080/"
        },
        "id": "kUBNnybDIJze",
        "outputId": "5b2495b1-daa0-4bcf-eb9d-9c47f111d294"
      },
      "execution_count": null,
      "outputs": [
        {
          "output_type": "stream",
          "name": "stdout",
          "text": [
            "Epoch 1/50\n",
            "96/96 [==============================] - 5s 7ms/step - loss: 1713.5912 - val_loss: 1725.1348\n",
            "Epoch 2/50\n",
            "96/96 [==============================] - 0s 4ms/step - loss: 1566.3879 - val_loss: 1462.2970\n",
            "Epoch 3/50\n",
            "96/96 [==============================] - 0s 4ms/step - loss: 1210.7703 - val_loss: 989.5007\n",
            "Epoch 4/50\n",
            "96/96 [==============================] - 0s 4ms/step - loss: 755.8788 - val_loss: 545.7092\n",
            "Epoch 5/50\n",
            "96/96 [==============================] - 0s 4ms/step - loss: 455.6150 - val_loss: 344.3150\n",
            "Epoch 6/50\n",
            "96/96 [==============================] - 0s 4ms/step - loss: 356.3693 - val_loss: 290.8324\n",
            "Epoch 7/50\n",
            "96/96 [==============================] - 0s 4ms/step - loss: 332.2156 - val_loss: 273.1393\n",
            "Epoch 8/50\n",
            "96/96 [==============================] - 0s 4ms/step - loss: 316.6783 - val_loss: 255.2567\n",
            "Epoch 9/50\n",
            "96/96 [==============================] - 0s 4ms/step - loss: 296.8170 - val_loss: 232.8365\n",
            "Epoch 10/50\n",
            "96/96 [==============================] - 0s 4ms/step - loss: 272.2357 - val_loss: 207.2911\n",
            "Epoch 11/50\n",
            "96/96 [==============================] - 0s 4ms/step - loss: 246.0430 - val_loss: 180.7162\n",
            "Epoch 12/50\n",
            "96/96 [==============================] - 0s 4ms/step - loss: 219.9744 - val_loss: 155.4533\n",
            "Epoch 13/50\n",
            "96/96 [==============================] - 0s 4ms/step - loss: 194.6461 - val_loss: 129.7605\n",
            "Epoch 14/50\n",
            "96/96 [==============================] - 0s 4ms/step - loss: 169.1595 - val_loss: 104.4473\n",
            "Epoch 15/50\n",
            "96/96 [==============================] - 0s 4ms/step - loss: 143.9386 - val_loss: 81.3006\n",
            "Epoch 16/50\n",
            "96/96 [==============================] - 0s 4ms/step - loss: 121.5978 - val_loss: 60.7004\n",
            "Epoch 17/50\n",
            "96/96 [==============================] - 0s 4ms/step - loss: 102.7594 - val_loss: 44.7045\n",
            "Epoch 18/50\n",
            "96/96 [==============================] - 0s 3ms/step - loss: 87.8214 - val_loss: 31.9774\n",
            "Epoch 19/50\n",
            "96/96 [==============================] - 0s 3ms/step - loss: 76.1715 - val_loss: 22.5727\n",
            "Epoch 20/50\n",
            "96/96 [==============================] - 1s 7ms/step - loss: 67.5218 - val_loss: 16.1557\n",
            "Epoch 21/50\n",
            "96/96 [==============================] - 1s 6ms/step - loss: 61.4251 - val_loss: 11.7144\n",
            "Epoch 22/50\n",
            "96/96 [==============================] - 0s 5ms/step - loss: 57.1886 - val_loss: 8.8317\n",
            "Epoch 23/50\n",
            "96/96 [==============================] - 0s 5ms/step - loss: 54.2032 - val_loss: 7.0215\n",
            "Epoch 24/50\n",
            "96/96 [==============================] - 0s 5ms/step - loss: 52.2122 - val_loss: 5.9113\n",
            "Epoch 25/50\n",
            "96/96 [==============================] - 1s 6ms/step - loss: 50.8133 - val_loss: 5.2007\n",
            "Epoch 26/50\n",
            "96/96 [==============================] - 1s 11ms/step - loss: 49.7765 - val_loss: 4.7892\n",
            "Epoch 27/50\n",
            "96/96 [==============================] - 1s 9ms/step - loss: 49.0661 - val_loss: 4.4732\n",
            "Epoch 28/50\n",
            "96/96 [==============================] - 1s 6ms/step - loss: 48.4237 - val_loss: 4.2951\n",
            "Epoch 29/50\n",
            "96/96 [==============================] - 0s 3ms/step - loss: 47.9117 - val_loss: 4.1545\n",
            "Epoch 30/50\n",
            "96/96 [==============================] - 0s 5ms/step - loss: 47.4587 - val_loss: 4.1155\n",
            "Epoch 31/50\n",
            "96/96 [==============================] - 0s 4ms/step - loss: 47.0675 - val_loss: 3.9467\n",
            "Epoch 32/50\n",
            "96/96 [==============================] - 0s 4ms/step - loss: 46.6470 - val_loss: 4.1009\n",
            "Epoch 33/50\n",
            "96/96 [==============================] - 0s 4ms/step - loss: 46.2602 - val_loss: 4.1652\n",
            "Epoch 34/50\n",
            "96/96 [==============================] - 0s 4ms/step - loss: 45.9539 - val_loss: 3.8327\n",
            "Epoch 35/50\n",
            "96/96 [==============================] - 0s 4ms/step - loss: 45.5710 - val_loss: 3.9865\n",
            "Epoch 36/50\n",
            "96/96 [==============================] - 0s 4ms/step - loss: 45.2567 - val_loss: 3.7438\n",
            "Epoch 37/50\n",
            "96/96 [==============================] - 0s 4ms/step - loss: 44.9525 - val_loss: 3.7412\n",
            "Epoch 38/50\n",
            "96/96 [==============================] - 0s 4ms/step - loss: 44.5679 - val_loss: 3.6447\n",
            "Epoch 39/50\n",
            "96/96 [==============================] - 0s 4ms/step - loss: 44.1933 - val_loss: 3.8934\n",
            "Epoch 40/50\n",
            "96/96 [==============================] - 0s 3ms/step - loss: 43.9574 - val_loss: 3.6983\n",
            "Epoch 41/50\n",
            "96/96 [==============================] - 0s 4ms/step - loss: 43.5574 - val_loss: 3.5849\n",
            "Epoch 42/50\n",
            "96/96 [==============================] - 0s 4ms/step - loss: 43.2574 - val_loss: 3.5397\n",
            "Epoch 43/50\n",
            "96/96 [==============================] - 0s 4ms/step - loss: 42.8891 - val_loss: 3.6041\n",
            "Epoch 44/50\n",
            "96/96 [==============================] - 0s 4ms/step - loss: 42.5693 - val_loss: 3.5875\n",
            "Epoch 45/50\n",
            "96/96 [==============================] - 0s 4ms/step - loss: 42.2184 - val_loss: 3.4923\n",
            "Epoch 46/50\n",
            "96/96 [==============================] - 0s 4ms/step - loss: 41.8826 - val_loss: 3.5466\n",
            "Epoch 47/50\n",
            "96/96 [==============================] - 1s 6ms/step - loss: 41.5439 - val_loss: 3.4494\n",
            "Epoch 48/50\n",
            "96/96 [==============================] - 1s 6ms/step - loss: 41.1655 - val_loss: 3.4633\n",
            "Epoch 49/50\n",
            "96/96 [==============================] - 1s 8ms/step - loss: 40.8495 - val_loss: 3.4192\n",
            "Epoch 50/50\n",
            "96/96 [==============================] - 1s 7ms/step - loss: 40.4571 - val_loss: 3.3877\n"
          ]
        },
        {
          "output_type": "execute_result",
          "data": {
            "text/plain": [
              "<keras.src.callbacks.History at 0x7e45fedca2f0>"
            ]
          },
          "metadata": {},
          "execution_count": 14
        }
      ]
    },
    {
      "cell_type": "code",
      "source": [
        "train_loss = model.evaluate(X_train, y_train, verbose=0)\n",
        "test_loss = model.evaluate(X_test, y_test, verbose=0)"
      ],
      "metadata": {
        "id": "NuOczSWsILoZ"
      },
      "execution_count": null,
      "outputs": []
    },
    {
      "cell_type": "code",
      "source": [
        "print(f'Training Loss: {train_loss:.4f}')\n",
        "print(f'Testing Loss: {test_loss:.4f}')"
      ],
      "metadata": {
        "colab": {
          "base_uri": "https://localhost:8080/"
        },
        "id": "9XTHyPUrIUIA",
        "outputId": "98928667-28bd-427b-db1c-1e3bb85361dc"
      },
      "execution_count": null,
      "outputs": [
        {
          "output_type": "stream",
          "name": "stdout",
          "text": [
            "Training Loss: 40.0554\n",
            "Testing Loss: 3.3877\n"
          ]
        }
      ]
    },
    {
      "cell_type": "code",
      "source": [
        "predictions = model.predict(X_test)"
      ],
      "metadata": {
        "colab": {
          "base_uri": "https://localhost:8080/"
        },
        "id": "MffpY0yeIYsT",
        "outputId": "86320819-7a3c-4b18-fcca-66cce8b17be2"
      },
      "execution_count": null,
      "outputs": [
        {
          "output_type": "stream",
          "name": "stdout",
          "text": [
            "24/24 [==============================] - 1s 4ms/step\n"
          ]
        }
      ]
    },
    {
      "cell_type": "code",
      "source": [
        "plt.scatter(y_test, predictions)\n",
        "plt.xlabel('Actual Prices')\n",
        "plt.ylabel('Predicted Prices')\n",
        "plt.title('Actual vs Predicted Prices')\n",
        "plt.show()"
      ],
      "metadata": {
        "colab": {
          "base_uri": "https://localhost:8080/",
          "height": 472
        },
        "id": "5zHz25P3IcBa",
        "outputId": "f6c521e5-f96c-4486-9a9b-9c60a742ad7d"
      },
      "execution_count": null,
      "outputs": [
        {
          "output_type": "display_data",
          "data": {
            "text/plain": [
              "<Figure size 640x480 with 1 Axes>"
            ],
            "image/png": "[encoded data removed]"
          },
          "metadata": {}
        }
      ]
    },
    {
      "cell_type": "code",
      "source": [
        "mse = mean_squared_error(y_test, predictions)\n",
        "print(f'Mean Squared Error: {mse}')"
      ],
      "metadata": {
        "colab": {
          "base_uri": "https://localhost:8080/"
        },
        "id": "fUQo7DEEK_Dh",
        "outputId": "185601df-4b2d-4f42-8626-538ba0166099"
      },
      "execution_count": null,
      "outputs": [
        {
          "output_type": "stream",
          "name": "stdout",
          "text": [
            "Mean Squared Error: 3.3876744976319464\n"
          ]
        }
      ]
    },
    {
      "cell_type": "code",
      "source": [
        "from sklearn.metrics import r2_score\n",
        "r_squared = r2_score(y_test, predictions)\n",
        "print(\"R-squared:\", r_squared)"
      ],
      "metadata": {
        "colab": {
          "base_uri": "https://localhost:8080/"
        },
        "id": "GYdlTJVYLLAw",
        "outputId": "55981f5c-c028-49f0-ce07-a85597427f27"
      },
      "execution_count": null,
      "outputs": [
        {
          "output_type": "stream",
          "name": "stdout",
          "text": [
            "R-squared: 0.9903414463019465\n"
          ]
        }
      ]
    },
    {
      "cell_type": "code",
      "source": [],
      "metadata": {
        "id": "onyM8egXLO3b"
      },
      "execution_count": null,
      "outputs": []
    }
  ]
}