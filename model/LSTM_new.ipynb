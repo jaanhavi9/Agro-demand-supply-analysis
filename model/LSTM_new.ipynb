{
  "nbformat": 4,
  "nbformat_minor": 0,
  "metadata": {
    "colab": {
      "provenance": []
    },
    "kernelspec": {
      "name": "python3",
      "display_name": "Python 3"
    },
    "language_info": {
      "name": "python"
    }
  },
  "cells": [
    {
      "cell_type": "code",
      "execution_count": 1,
      "metadata": {
        "id": "vjkM3V_9HW0O"
      },
      "outputs": [],
      "source": [
        "import pandas as pd\n",
        "from sklearn.model_selection import train_test_split\n",
        "from sklearn.preprocessing import StandardScaler\n",
        "import numpy as np\n",
        "from sklearn.impute import SimpleImputer\n",
        "import matplotlib.pyplot as plt\n",
        "from dateutil import parser\n",
        "from numpy import concatenate\n",
        "from pandas import read_csv\n",
        "from pandas import DataFrame\n",
        "from pandas import concat\n",
        "from matplotlib import pyplot\n",
        "from sklearn.preprocessing import MinMaxScaler\n",
        "from sklearn.metrics import mean_squared_error\n",
        "from keras.models import Sequential\n",
        "from keras.layers import Dense\n",
        "from keras.layers import LSTM"
      ]
    },
    {
      "cell_type": "code",
      "source": [
        "merged_data = pd.read_csv('merged_data.csv')"
      ],
      "metadata": {
        "id": "5y44TnA3HeXF"
      },
      "execution_count": 2,
      "outputs": []
    },
    {
      "cell_type": "code",
      "source": [
        "print(merged_data)"
      ],
      "metadata": {
        "colab": {
          "base_uri": "https://localhost:8080/"
        },
        "id": "XUl5ndXZHmxQ",
        "outputId": "c5e47b2d-1dea-4191-b720-bf128f4af05d"
      },
      "execution_count": 3,
      "outputs": [
        {
          "output_type": "stream",
          "name": "stdout",
          "text": [
            "            Date  tempmax  tempmin  temp  humidity    prcp    Minimum  \\\n",
            "0     01-06-2013     26.1     20.2  22.6      89.0  20.000  21.272727   \n",
            "1     02-06-2013     27.0     20.1  22.8      84.7   5.000  21.272727   \n",
            "2     03-06-2013     27.1     19.9  22.5      83.3   4.000  21.272727   \n",
            "3     04-06-2013     28.6     19.9  24.0      75.9   0.000  21.272727   \n",
            "4     05-06-2013     30.0     21.0  25.2      73.1   0.000  21.272727   \n",
            "...          ...      ...      ...   ...       ...     ...        ...   \n",
            "3832  28-11-2023     27.9     20.4  23.7      80.3   0.200  15.000000   \n",
            "3833  29-11-2023     27.9     21.1  23.7      80.8   0.019   5.000000   \n",
            "3834  30-11-2023     28.9     20.1  23.4      80.8   0.100  15.000000   \n",
            "3835  01-12-2023     27.8     20.1  23.6      80.5   0.013  28.000000   \n",
            "3836  02-12-2023     27.8     19.2  23.2      80.5   0.700  20.000000   \n",
            "\n",
            "      Maximum    Average  \n",
            "0        26.0  23.636364  \n",
            "1        26.0  23.636364  \n",
            "2        26.0  23.636364  \n",
            "3        26.0  23.636364  \n",
            "4        26.0  23.636364  \n",
            "...       ...        ...  \n",
            "3832     26.0  20.500000  \n",
            "3833     26.0  15.500000  \n",
            "3834     33.0  24.000000  \n",
            "3835     30.0  29.000000  \n",
            "3836     30.0  25.000000  \n",
            "\n",
            "[3837 rows x 9 columns]\n"
          ]
        }
      ]
    },
    {
      "cell_type": "code",
      "source": [
        "date = merged_data['Date']\n",
        "precipitation = merged_data[' prcp']\n",
        "price = merged_data['Average']"
      ],
      "metadata": {
        "id": "AH9T86dQHsKj"
      },
      "execution_count": 4,
      "outputs": []
    },
    {
      "cell_type": "code",
      "source": [
        "\n",
        "merged_data['Date'] = pd.to_datetime(merged_data['Date'])"
      ],
      "metadata": {
        "colab": {
          "base_uri": "https://localhost:8080/"
        },
        "id": "IQ47LjsCH1L_",
        "outputId": "9fc4bc7d-eba6-454e-bb69-a58a2fc44d5d"
      },
      "execution_count": 5,
      "outputs": [
        {
          "output_type": "stream",
          "name": "stderr",
          "text": [
            "<ipython-input-5-ead1b8c69bc7>:1: UserWarning: Parsing dates in DD/MM/YYYY format when dayfirst=False (the default) was specified. This may lead to inconsistently parsed dates! Specify a format to ensure consistent parsing.\n",
            "  merged_data['Date'] = pd.to_datetime(merged_data['Date'])\n"
          ]
        }
      ]
    },
    {
      "cell_type": "code",
      "source": [
        "features = merged_data[[' prcp', 'tempmin', 'tempmax', 'temp', 'humidity', 'Maximum', 'Minimum']]\n",
        "target = merged_data['Average']"
      ],
      "metadata": {
        "id": "CjOqdhqNH6pl"
      },
      "execution_count": 6,
      "outputs": []
    },
    {
      "cell_type": "code",
      "source": [
        "scaler = MinMaxScaler()\n",
        "features_scaled = scaler.fit_transform(features)"
      ],
      "metadata": {
        "id": "5rVIVJc9IAlP"
      },
      "execution_count": 7,
      "outputs": []
    },
    {
      "cell_type": "code",
      "source": [
        "X_train, X_test, y_train, y_test = train_test_split(features_scaled, target, test_size=0.2, random_state=42)"
      ],
      "metadata": {
        "id": "KUvljnqrIDBL"
      },
      "execution_count": 8,
      "outputs": []
    },
    {
      "cell_type": "code",
      "source": [
        "X_train = np.reshape(X_train, (X_train.shape[0], 1, X_train.shape[1]))\n",
        "X_test = np.reshape(X_test, (X_test.shape[0], 1, X_test.shape[1]))"
      ],
      "metadata": {
        "id": "CeWfTYDFIFFr"
      },
      "execution_count": 9,
      "outputs": []
    },
    {
      "cell_type": "code",
      "source": [
        "model = Sequential()\n",
        "model.add(LSTM(units=50, activation='relu', input_shape=(X_train.shape[1], X_train.shape[2])))\n",
        "model.add(Dense(units=1))\n",
        "model.compile(optimizer='adam', loss='mean_squared_error')"
      ],
      "metadata": {
        "id": "E87vI11vIH5Q"
      },
      "execution_count": 10,
      "outputs": []
    },
    {
      "cell_type": "code",
      "source": [
        "model.fit(X_train, y_train, epochs=50, batch_size=32, validation_data=(X_test, y_test))"
      ],
      "metadata": {
        "colab": {
          "base_uri": "https://localhost:8080/"
        },
        "id": "kUBNnybDIJze",
        "outputId": "a0a70e1f-91ba-42f6-d0ee-8e7a3848589c"
      },
      "execution_count": 11,
      "outputs": [
        {
          "output_type": "stream",
          "name": "stdout",
          "text": [
            "Epoch 1/50\n",
            "96/96 [==============================] - 4s 14ms/step - loss: 1703.7694 - val_loss: 1699.3617\n",
            "Epoch 2/50\n",
            "96/96 [==============================] - 1s 6ms/step - loss: 1509.4578 - val_loss: 1360.3405\n",
            "Epoch 3/50\n",
            "96/96 [==============================] - 1s 13ms/step - loss: 1078.5747 - val_loss: 823.7129\n",
            "Epoch 4/50\n",
            "96/96 [==============================] - 1s 14ms/step - loss: 627.2474 - val_loss: 436.6954\n",
            "Epoch 5/50\n",
            "96/96 [==============================] - 1s 13ms/step - loss: 389.9004 - val_loss: 296.6134\n",
            "Epoch 6/50\n",
            "96/96 [==============================] - 1s 13ms/step - loss: 326.7672 - val_loss: 265.7034\n",
            "Epoch 7/50\n",
            "96/96 [==============================] - 1s 7ms/step - loss: 311.5755 - val_loss: 252.9646\n",
            "Epoch 8/50\n",
            "96/96 [==============================] - 1s 7ms/step - loss: 298.6638 - val_loss: 237.7686\n",
            "Epoch 9/50\n",
            "96/96 [==============================] - 1s 8ms/step - loss: 281.9824 - val_loss: 220.2904\n",
            "Epoch 10/50\n",
            "96/96 [==============================] - 1s 7ms/step - loss: 261.7188 - val_loss: 197.7326\n",
            "Epoch 11/50\n",
            "96/96 [==============================] - 1s 7ms/step - loss: 238.5369 - val_loss: 174.2339\n",
            "Epoch 12/50\n",
            "96/96 [==============================] - 1s 8ms/step - loss: 215.0613 - val_loss: 152.3131\n",
            "Epoch 13/50\n",
            "96/96 [==============================] - 1s 8ms/step - loss: 192.8065 - val_loss: 130.6998\n",
            "Epoch 14/50\n",
            "96/96 [==============================] - 1s 8ms/step - loss: 171.2906 - val_loss: 110.1483\n",
            "Epoch 15/50\n",
            "96/96 [==============================] - 1s 7ms/step - loss: 151.7496 - val_loss: 91.5070\n",
            "Epoch 16/50\n",
            "96/96 [==============================] - 1s 7ms/step - loss: 134.2186 - val_loss: 75.2744\n",
            "Epoch 17/50\n",
            "96/96 [==============================] - 1s 7ms/step - loss: 118.8716 - val_loss: 61.5212\n",
            "Epoch 18/50\n",
            "96/96 [==============================] - 1s 6ms/step - loss: 105.5608 - val_loss: 49.5377\n",
            "Epoch 19/50\n",
            "96/96 [==============================] - 1s 8ms/step - loss: 94.0740 - val_loss: 39.3267\n",
            "Epoch 20/50\n",
            "96/96 [==============================] - 1s 8ms/step - loss: 84.3512 - val_loss: 30.9227\n",
            "Epoch 21/50\n",
            "96/96 [==============================] - 1s 12ms/step - loss: 76.2408 - val_loss: 24.1877\n",
            "Epoch 22/50\n",
            "96/96 [==============================] - 1s 10ms/step - loss: 69.6184 - val_loss: 18.5718\n",
            "Epoch 23/50\n",
            "96/96 [==============================] - 1s 11ms/step - loss: 64.2808 - val_loss: 14.6232\n",
            "Epoch 24/50\n",
            "96/96 [==============================] - 1s 10ms/step - loss: 60.1973 - val_loss: 11.1493\n",
            "Epoch 25/50\n",
            "96/96 [==============================] - 1s 8ms/step - loss: 56.9614 - val_loss: 8.8373\n",
            "Epoch 26/50\n",
            "96/96 [==============================] - 1s 8ms/step - loss: 54.5280 - val_loss: 7.2019\n",
            "Epoch 27/50\n",
            "96/96 [==============================] - 1s 9ms/step - loss: 52.7732 - val_loss: 6.1337\n",
            "Epoch 28/50\n",
            "96/96 [==============================] - 1s 9ms/step - loss: 51.4279 - val_loss: 5.4209\n",
            "Epoch 29/50\n",
            "96/96 [==============================] - 1s 8ms/step - loss: 50.4764 - val_loss: 4.9385\n",
            "Epoch 30/50\n",
            "96/96 [==============================] - 1s 7ms/step - loss: 49.7063 - val_loss: 4.6131\n",
            "Epoch 31/50\n",
            "96/96 [==============================] - 1s 7ms/step - loss: 49.1755 - val_loss: 4.5077\n",
            "Epoch 32/50\n",
            "96/96 [==============================] - 1s 9ms/step - loss: 48.6734 - val_loss: 4.2980\n",
            "Epoch 33/50\n",
            "96/96 [==============================] - 1s 10ms/step - loss: 48.2879 - val_loss: 4.2188\n",
            "Epoch 34/50\n",
            "96/96 [==============================] - 2s 18ms/step - loss: 47.9155 - val_loss: 4.1679\n",
            "Epoch 35/50\n",
            "96/96 [==============================] - 0s 4ms/step - loss: 47.5126 - val_loss: 4.3147\n",
            "Epoch 36/50\n",
            "96/96 [==============================] - 1s 5ms/step - loss: 47.1766 - val_loss: 4.0483\n",
            "Epoch 37/50\n",
            "96/96 [==============================] - 1s 6ms/step - loss: 46.8213 - val_loss: 4.2517\n",
            "Epoch 38/50\n",
            "96/96 [==============================] - 1s 5ms/step - loss: 46.5088 - val_loss: 3.9502\n",
            "Epoch 39/50\n",
            "96/96 [==============================] - 1s 9ms/step - loss: 46.1973 - val_loss: 3.8941\n",
            "Epoch 40/50\n",
            "96/96 [==============================] - 1s 10ms/step - loss: 45.8525 - val_loss: 3.8653\n",
            "Epoch 41/50\n",
            "96/96 [==============================] - 0s 4ms/step - loss: 45.4792 - val_loss: 4.1925\n",
            "Epoch 42/50\n",
            "96/96 [==============================] - 0s 4ms/step - loss: 45.1781 - val_loss: 4.2825\n",
            "Epoch 43/50\n",
            "96/96 [==============================] - 0s 4ms/step - loss: 44.9664 - val_loss: 3.8588\n",
            "Epoch 44/50\n",
            "96/96 [==============================] - 0s 4ms/step - loss: 44.5145 - val_loss: 3.8354\n",
            "Epoch 45/50\n",
            "96/96 [==============================] - 0s 4ms/step - loss: 44.1466 - val_loss: 3.7157\n",
            "Epoch 46/50\n",
            "96/96 [==============================] - 0s 4ms/step - loss: 43.7620 - val_loss: 3.7741\n",
            "Epoch 47/50\n",
            "96/96 [==============================] - 0s 4ms/step - loss: 43.4937 - val_loss: 3.6305\n",
            "Epoch 48/50\n",
            "96/96 [==============================] - 0s 4ms/step - loss: 43.1318 - val_loss: 3.5924\n",
            "Epoch 49/50\n",
            "96/96 [==============================] - 0s 4ms/step - loss: 42.7812 - val_loss: 3.5497\n",
            "Epoch 50/50\n",
            "96/96 [==============================] - 0s 4ms/step - loss: 42.3820 - val_loss: 3.6228\n"
          ]
        },
        {
          "output_type": "execute_result",
          "data": {
            "text/plain": [
              "<keras.src.callbacks.History at 0x79622c64cc40>"
            ]
          },
          "metadata": {},
          "execution_count": 11
        }
      ]
    },
    {
      "cell_type": "code",
      "source": [
        "train_loss = model.evaluate(X_train, y_train, verbose=0)\n",
        "test_loss = model.evaluate(X_test, y_test, verbose=0)"
      ],
      "metadata": {
        "id": "NuOczSWsILoZ"
      },
      "execution_count": 12,
      "outputs": []
    },
    {
      "cell_type": "code",
      "source": [
        "print(f'Training Loss: {train_loss:.4f}')\n",
        "print(f'Testing Loss: {test_loss:.4f}')"
      ],
      "metadata": {
        "colab": {
          "base_uri": "https://localhost:8080/"
        },
        "id": "9XTHyPUrIUIA",
        "outputId": "96999be3-b08e-45f3-db00-3408fcf8e866"
      },
      "execution_count": 13,
      "outputs": [
        {
          "output_type": "stream",
          "name": "stdout",
          "text": [
            "Training Loss: 41.9778\n",
            "Testing Loss: 3.6228\n"
          ]
        }
      ]
    },
    {
      "cell_type": "code",
      "source": [
        "predictions = model.predict(X_test)"
      ],
      "metadata": {
        "colab": {
          "base_uri": "https://localhost:8080/"
        },
        "id": "MffpY0yeIYsT",
        "outputId": "60bb7dbc-0b54-431c-b447-68838d807dcc"
      },
      "execution_count": 14,
      "outputs": [
        {
          "output_type": "stream",
          "name": "stdout",
          "text": [
            "24/24 [==============================] - 0s 3ms/step\n"
          ]
        }
      ]
    },
    {
      "cell_type": "code",
      "source": [
        "plt.scatter(y_test, predictions)\n",
        "plt.xlabel('Actual Prices')\n",
        "plt.ylabel('Predicted Prices')\n",
        "plt.title('Actual vs Predicted Prices')\n",
        "plt.show()"
      ],
      "metadata": {
        "colab": {
          "base_uri": "https://localhost:8080/",
          "height": 472
        },
        "id": "5zHz25P3IcBa",
        "outputId": "504114bf-f12f-4b79-a6f1-246899e18b1e"
      },
      "execution_count": 15,
      "outputs": [
        {
          "output_type": "display_data",
          "data": {
            "text/plain": [
              "<Figure size 640x480 with 1 Axes>"
            ],
            "image/png": "[encoded data removed]"
          },
          "metadata": {}
        }
      ]
    },
    {
      "cell_type": "code",
      "source": [
        "import math\n",
        "mse = mean_squared_error(y_test, predictions)\n",
        "print(f'Mean Squared Error: {mse}')\n",
        "print(f'RMSE: {math.sqrt(mse)}')"
      ],
      "metadata": {
        "colab": {
          "base_uri": "https://localhost:8080/"
        },
        "id": "fUQo7DEEK_Dh",
        "outputId": "95fdf732-8ac7-427c-ce32-a37f6041b24d"
      },
      "execution_count": 16,
      "outputs": [
        {
          "output_type": "stream",
          "name": "stdout",
          "text": [
            "Mean Squared Error: 3.6228460589417857\n",
            "RMSE: 1.9033775397807409\n"
          ]
        }
      ]
    },
    {
      "cell_type": "code",
      "source": [
        "from sklearn.metrics import r2_score\n",
        "r_squared = r2_score(y_test, predictions)\n",
        "print(\"R-squared:\", r_squared)"
      ],
      "metadata": {
        "colab": {
          "base_uri": "https://localhost:8080/"
        },
        "id": "GYdlTJVYLLAw",
        "outputId": "1cfb0381-5be8-4556-f63e-379bf93924c8"
      },
      "execution_count": 17,
      "outputs": [
        {
          "output_type": "stream",
          "name": "stdout",
          "text": [
            "R-squared: 0.9896709517916995\n"
          ]
        }
      ]
    },
    {
      "cell_type": "code",
      "source": [
        "future_data = pd.DataFrame({\n",
        "    ' prcp': [0.1, 0.013, 0.7],  # Example precipitation values for future dates\n",
        "    'tempmin': [20.1, 20.1, 19.2],   # Example minimum temperature values for future dates\n",
        "    'tempmax': [28.9, 27.8, 27.8],   # Example maximum temperature values for future dates\n",
        "    'temp': [23.4, 23.6, 23.2],      # Example temperature values for future dates\n",
        "    'humidity': [80.8, 80.5, 80.5],  # Example humidity values for future dates\n",
        "    'Maximum': [33, 30, 30], # Example maximum price values for future dates\n",
        "    'Minimum': [15, 28, 20]\n",
        "})"
      ],
      "metadata": {
        "id": "onyM8egXLO3b"
      },
      "execution_count": 19,
      "outputs": []
    },
    {
      "cell_type": "code",
      "source": [
        "future_data_scaled = scaler.transform(future_data)\n",
        "\n",
        "# Reshape future data to match the model's input shape\n",
        "future_data_reshaped = np.reshape(future_data_scaled, (future_data_scaled.shape[0], 1, future_data_scaled.shape[1]))\n",
        "\n",
        "# Make predictions for future dates using the trained model\n",
        "future_predictions = model.predict(future_data_reshaped)\n",
        "\n",
        "# Create a DataFrame with the future dates and corresponding predictions\n",
        "future_dates = pd.date_range(start='2023-11-30', end='2023-12-02')  # Example future dates\n",
        "future_predictions_df = pd.DataFrame({'Date': future_dates, 'Predicted_Price': future_predictions.flatten()})\n",
        "\n",
        "# Display the predictions for future dates\n",
        "print(future_predictions_df)"
      ],
      "metadata": {
        "colab": {
          "base_uri": "https://localhost:8080/"
        },
        "id": "kJaVhrt4NRcB",
        "outputId": "59f6d6c3-d353-47a3-c754-0b6802183bd6"
      },
      "execution_count": 20,
      "outputs": [
        {
          "output_type": "stream",
          "name": "stdout",
          "text": [
            "1/1 [==============================] - 1s 864ms/step\n",
            "        Date  Predicted_Price\n",
            "0 2023-11-30        19.508572\n",
            "1 2023-12-01        30.607710\n",
            "2 2023-12-02        23.363487\n"
          ]
        }
      ]
    }
  ]
}