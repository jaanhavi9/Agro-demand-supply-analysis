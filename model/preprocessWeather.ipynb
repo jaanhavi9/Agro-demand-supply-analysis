{
 "cells": [
  {
   "cell_type": "code",
   "execution_count": 12,
   "id": "8ca0cfdd-9e9a-4a9c-a36f-56796793f525",
   "metadata": {},
   "outputs": [],
   "source": [
    "import statsmodels.api as sm\n",
    "import datapackage\n",
    "import matplotlib.pyplot as plt\n",
    "import numpy as np\n",
    "import pandas as pd\n",
    "import seaborn as sns\n",
    "from dateutil import parser\n",
    "from datetime import datetime, timedelta"
   ]
  },
  {
   "cell_type": "code",
   "execution_count": 13,
   "id": "624d2d91-66da-4ba0-85e0-6cd9b41a8bd8",
   "metadata": {},
   "outputs": [],
   "source": [
    "weather_data = pd.read_csv('weather_dataset.csv')"
   ]
  },
  {
   "cell_type": "code",
   "execution_count": 17,
   "id": "acd8f065-788c-4ed2-ba3f-34f30e4687e5",
   "metadata": {},
   "outputs": [],
   "source": [
    "weather_data['Date'] = pd.to_datetime(weather_data['Date'], format='%d/%m/%y', errors='coerce')"
   ]
  },
  {
   "cell_type": "code",
   "execution_count": null,
   "id": "427b03ff-6f2b-4423-941b-cf079aaf8131",
   "metadata": {},
   "outputs": [],
   "source": []
  },
  {
   "cell_type": "code",
   "execution_count": null,
   "id": "a9cd6da1-4543-468a-9f47-71e48ed32dd9",
   "metadata": {},
   "outputs": [],
   "source": []
  },
  {
   "cell_type": "code",
   "execution_count": null,
   "id": "38ba493a-95f6-4dfe-ae53-0d284ea2c110",
   "metadata": {},
   "outputs": [],
   "source": []
  },
  {
   "cell_type": "code",
   "execution_count": null,
   "id": "b4d566b0-9006-4af4-8c6d-1aa95778c84e",
   "metadata": {},
   "outputs": [],
   "source": []
  },
  {
   "cell_type": "code",
   "execution_count": null,
   "id": "851d0671-b2a3-44e9-951f-4edb6bc5af52",
   "metadata": {},
   "outputs": [],
   "source": []
  },
  {
   "cell_type": "code",
   "execution_count": null,
   "id": "faa9ee83-f5fd-41ac-ac77-552c52a29d1f",
   "metadata": {},
   "outputs": [],
   "source": []
  }
 ],
 "metadata": {
  "kernelspec": {
   "display_name": "Python 3 (ipykernel)",
   "language": "python",
   "name": "python3"
  },
  "language_info": {
   "codemirror_mode": {
    "name": "ipython",
    "version": 3
   },
   "file_extension": ".py",
   "mimetype": "text/x-python",
   "name": "python",
   "nbconvert_exporter": "python",
   "pygments_lexer": "ipython3",
   "version": "3.11.5"
  }
 },
 "nbformat": 4,
 "nbformat_minor": 5
}
