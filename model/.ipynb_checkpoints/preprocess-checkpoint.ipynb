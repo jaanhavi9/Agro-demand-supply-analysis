{
 "cells": [
  {
   "cell_type": "code",
   "execution_count": 31,
   "id": "cca13884-e59a-4d38-99db-8502e7a8c4a8",
   "metadata": {},
   "outputs": [],
   "source": [
    "import statsmodels.api as sm\n",
    "import datapackage\n",
    "import matplotlib.pyplot as plt\n",
    "import numpy as np\n",
    "import pandas as pd\n",
    "import seaborn as sns\n",
    "from dateutil import parser\n",
    "from datetime import datetime, timedelta"
   ]
  },
  {
   "cell_type": "code",
   "execution_count": 32,
   "id": "0f569752-cc21-404d-aaf0-7acb49cd640b",
   "metadata": {},
   "outputs": [],
   "source": [
    "weather_data = pd.read_csv('weather_dataset.csv')\n",
    "price_data = pd.read_csv('crop_dataset.csv')"
   ]
  },
  {
   "cell_type": "code",
   "execution_count": 33,
   "id": "17521493-8704-4091-bbd2-c4bb64fa0452",
   "metadata": {},
   "outputs": [],
   "source": [
    "price_data['Date'] = pd.to_datetime(price_data['Date'])"
   ]
  },
  {
   "cell_type": "code",
   "execution_count": 34,
   "id": "480c96fc-97a7-4ef3-80c6-45350c7ae207",
   "metadata": {},
   "outputs": [],
   "source": [
    "# Create a date range from 2013-01-01 to 2023-12-31\n",
    "date_range = pd.date_range(start='2013-01-06', end='2023-12-02')"
   ]
  },
  {
   "cell_type": "code",
   "execution_count": 35,
   "id": "79f0c7ae-9dee-4a53-b558-1614b2f30b3d",
   "metadata": {},
   "outputs": [],
   "source": [
    "# Check for missing dates\n",
    "missing_dates = date_range[~date_range.isin(price_data['Date'])]"
   ]
  },
  {
   "cell_type": "code",
   "execution_count": 36,
   "id": "1c0428a5-6f32-41f2-ade8-33986d090bbf",
   "metadata": {},
   "outputs": [],
   "source": [
    "missing_dates_df = pd.DataFrame({'Date': missing_dates})\n",
    "missing_dates_df = missing_dates_df.assign(**{col: [None] * len(missing_dates_df) for col in price_data.columns[1:]})"
   ]
  },
  {
   "cell_type": "code",
   "execution_count": 37,
   "id": "7dd9b847-72cd-4374-bf74-20a266e1fc97",
   "metadata": {},
   "outputs": [
    {
     "name": "stderr",
     "output_type": "stream",
     "text": [
      "C:\\Users\\Hewlett Packard\\AppData\\Local\\Temp\\ipykernel_1940\\3887192919.py:2: FutureWarning: The behavior of DataFrame concatenation with empty or all-NA entries is deprecated. In a future version, this will no longer exclude empty or all-NA columns when determining the result dtypes. To retain the old behavior, exclude the relevant entries before the concat operation.\n",
      "  result_df = pd.concat([price_data, missing_dates_df], ignore_index=True)\n"
     ]
    }
   ],
   "source": [
    "# Concatenate the original DataFrame with the DataFrame containing missing dates\n",
    "result_df = pd.concat([price_data, missing_dates_df], ignore_index=True)"
   ]
  },
  {
   "cell_type": "code",
   "execution_count": 44,
   "id": "ed3d5887-a925-49b5-9362-c7aa726d2e35",
   "metadata": {},
   "outputs": [
    {
     "name": "stdout",
     "output_type": "stream",
     "text": [
      "           Date  Minimum  Maximum  Average\n",
      "0    2013-01-06      NaN      NaN      NaN\n",
      "1    2013-01-07      NaN      NaN      NaN\n",
      "2    2013-01-08      NaN      NaN      NaN\n",
      "3    2013-01-09      NaN      NaN      NaN\n",
      "4    2013-01-10      NaN      NaN      NaN\n",
      "...         ...      ...      ...      ...\n",
      "3978 2023-11-28     15.0     26.0     20.5\n",
      "3979 2023-11-29      5.0     26.0     15.5\n",
      "3980 2023-11-30     15.0     33.0     24.0\n",
      "3981 2023-12-01     28.0     30.0     29.0\n",
      "3982 2023-12-02     20.0     30.0     25.0\n",
      "\n",
      "[3983 rows x 4 columns]\n"
     ]
    }
   ],
   "source": [
    "# Sort the DataFrame based on the 'Date' column\n",
    "result_df = result_df.sort_values(by='Date').reset_index(drop=True)\n",
    "print(result_df)"
   ]
  },
  {
   "cell_type": "code",
   "execution_count": 46,
   "id": "1f8d02b0-81f7-46cb-b474-396cfa4049a2",
   "metadata": {},
   "outputs": [
    {
     "name": "stdout",
     "output_type": "stream",
     "text": [
      "           Date  Minimum  Maximum  Average\n",
      "0    2013-01-06      NaN      NaN      NaN\n",
      "1    2013-01-07      NaN      NaN      NaN\n",
      "2    2013-01-08      NaN      NaN      NaN\n",
      "3    2013-01-09      NaN      NaN      NaN\n",
      "4    2013-01-10      NaN      NaN      NaN\n",
      "...         ...      ...      ...      ...\n",
      "3978 2023-11-28     15.0     26.0     20.5\n",
      "3979 2023-11-29      5.0     26.0     15.5\n",
      "3980 2023-11-30     15.0     33.0     24.0\n",
      "3981 2023-12-01     28.0     30.0     29.0\n",
      "3982 2023-12-02     20.0     30.0     25.0\n",
      "\n",
      "[3983 rows x 4 columns]\n"
     ]
    }
   ],
   "source": [
    "result_df['Minimum'] = result_df.groupby(result_df['Date'].dt.to_period(\"M\"))['Minimum'].transform(lambda x: x.fillna(x.mean()))\n",
    "\n",
    "print(result_df)\n"
   ]
  },
  {
   "cell_type": "code",
   "execution_count": 8,
   "id": "355734ae-7e69-4380-ad86-5de2fe96a64c",
   "metadata": {},
   "outputs": [],
   "source": [
    "# Create a new DataFrame with daily dates for the year 2022\n",
    "date_2022 = pd.date_range(start='2022-01-01', end='2022-12-31', freq='D')\n",
    "df_2022 = pd.DataFrame({'Date': date_2022})"
   ]
  },
  {
   "cell_type": "code",
   "execution_count": 10,
   "id": "b1cf8498-e62d-49cb-ae1c-b9f3405e8848",
   "metadata": {},
   "outputs": [],
   "source": [
    "# Merge the two DataFrames based on the 'date' column, filling NaN values with the corresponding prices from 2023\n",
    "merged_df = pd.merge(df_2022, price_data, on='Date', how='left')"
   ]
  },
  {
   "cell_type": "code",
   "execution_count": null,
   "id": "e5498dbe-51e5-4ea7-9204-0743d34d441e",
   "metadata": {},
   "outputs": [],
   "source": []
  }
 ],
 "metadata": {
  "kernelspec": {
   "display_name": "Python 3 (ipykernel)",
   "language": "python",
   "name": "python3"
  },
  "language_info": {
   "codemirror_mode": {
    "name": "ipython",
    "version": 3
   },
   "file_extension": ".py",
   "mimetype": "text/x-python",
   "name": "python",
   "nbconvert_exporter": "python",
   "pygments_lexer": "ipython3",
   "version": "3.11.5"
  }
 },
 "nbformat": 4,
 "nbformat_minor": 5
}
