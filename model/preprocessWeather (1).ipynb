{
  "cells": [
    {
      "cell_type": "code",
      "execution_count": 105,
      "id": "8ca0cfdd-9e9a-4a9c-a36f-56796793f525",
      "metadata": {
        "id": "8ca0cfdd-9e9a-4a9c-a36f-56796793f525"
      },
      "outputs": [],
      "source": [
        "import statsmodels.api as sm\n",
        "import datapackage\n",
        "import matplotlib.pyplot as plt\n",
        "import numpy as np\n",
        "import pandas as pd\n",
        "import seaborn as sns\n",
        "from dateutil import parser\n",
        "from datetime import datetime, timedelta"
      ]
    },
    {
      "cell_type": "code",
      "execution_count": 111,
      "id": "624d2d91-66da-4ba0-85e0-6cd9b41a8bd8",
      "metadata": {
        "id": "624d2d91-66da-4ba0-85e0-6cd9b41a8bd8"
      },
      "outputs": [],
      "source": [
        "weather_data = pd.read_csv('weather_dataset.csv')"
      ]
    },
    {
      "cell_type": "code",
      "execution_count": 113,
      "id": "acd8f065-788c-4ed2-ba3f-34f30e4687e5",
      "metadata": {
        "id": "acd8f065-788c-4ed2-ba3f-34f30e4687e5"
      },
      "outputs": [],
      "source": [
        "weather_data['Date'] = pd.to_datetime(weather_data['Date'], format='%d-%m-%y', errors='coerce')"
      ]
    },
    {
      "cell_type": "code",
      "source": [
        "print(weather_data)"
      ],
      "metadata": {
        "colab": {
          "base_uri": "https://localhost:8080/"
        },
        "id": "4PDAycMZ95lH",
        "outputId": "4cff68c5-e441-4efe-cbdc-2705ef5f18d1"
      },
      "id": "4PDAycMZ95lH",
      "execution_count": 114,
      "outputs": [
        {
          "output_type": "stream",
          "name": "stdout",
          "text": [
            "           Date  prcp  tmin  tmax  tavg\n",
            "0    2013-01-06   NaN  20.0  29.4  21.8\n",
            "1    2013-02-06  13.2  20.0  27.6  22.3\n",
            "2    2013-03-06   5.1  19.2  27.6  22.3\n",
            "3    2013-04-06   4.6  19.7  29.9  24.1\n",
            "4    2013-05-06   0.0  21.2  29.9  25.0\n",
            "...         ...   ...   ...   ...   ...\n",
            "3671 2023-11-26   0.0  16.9  30.3  23.6\n",
            "3672 2023-11-27  35.1  16.9  31.3  24.1\n",
            "3673 2023-11-28  10.9  16.9  27.1  22.0\n",
            "3674 2023-11-29   1.6  18.5  24.9  21.7\n",
            "3675 2023-11-30   0.0  19.3  27.9  23.6\n",
            "\n",
            "[3676 rows x 5 columns]\n"
          ]
        }
      ]
    },
    {
      "cell_type": "code",
      "source": [
        "weather_data['tmin'] = weather_data.groupby(weather_data['Date'].dt.to_period(\"M\"))['tmin'].transform(lambda x: x.fillna(x.mean()))\n",
        "weather_data['tmax'] = weather_data.groupby(weather_data['Date'].dt.to_period(\"M\"))['tmax'].transform(lambda x: x.fillna(x.mean()))\n",
        "weather_data['tavg'] = weather_data.groupby(weather_data['Date'].dt.to_period(\"M\"))['tavg'].transform(lambda x: x.fillna(x.mean()))\n",
        "print(weather_data)"
      ],
      "metadata": {
        "colab": {
          "base_uri": "https://localhost:8080/"
        },
        "id": "nvOdBYDGFyZU",
        "outputId": "f9ffe3c2-1f0e-48e3-bd8a-27b89aa5111a"
      },
      "id": "nvOdBYDGFyZU",
      "execution_count": 115,
      "outputs": [
        {
          "output_type": "stream",
          "name": "stdout",
          "text": [
            "           Date  prcp  tmin  tmax  tavg\n",
            "0    2013-01-06   NaN  20.0  29.4  21.8\n",
            "1    2013-02-06  13.2  20.0  27.6  22.3\n",
            "2    2013-03-06   5.1  19.2  27.6  22.3\n",
            "3    2013-04-06   4.6  19.7  29.9  24.1\n",
            "4    2013-05-06   0.0  21.2  29.9  25.0\n",
            "...         ...   ...   ...   ...   ...\n",
            "3671 2023-11-26   0.0  16.9  30.3  23.6\n",
            "3672 2023-11-27  35.1  16.9  31.3  24.1\n",
            "3673 2023-11-28  10.9  16.9  27.1  22.0\n",
            "3674 2023-11-29   1.6  18.5  24.9  21.7\n",
            "3675 2023-11-30   0.0  19.3  27.9  23.6\n",
            "\n",
            "[3676 rows x 5 columns]\n"
          ]
        }
      ]
    },
    {
      "cell_type": "code",
      "source": [
        "weather_data['month'] = weather_data['Date'].dt.month"
      ],
      "metadata": {
        "id": "_sbEEvvDF4Vt"
      },
      "id": "_sbEEvvDF4Vt",
      "execution_count": 117,
      "outputs": []
    },
    {
      "cell_type": "code",
      "source": [
        "filtered_df = weather_data[weather_data['month'].isin([3, 4, 5, 6, 7, 8, 9, 10])]"
      ],
      "metadata": {
        "id": "xAVPp51vGHGF"
      },
      "id": "xAVPp51vGHGF",
      "execution_count": 118,
      "outputs": []
    },
    {
      "cell_type": "code",
      "source": [
        "monthly_means = filtered_df.groupby('month')['prcp'].mean()"
      ],
      "metadata": {
        "id": "QghgeKEzGMYO"
      },
      "id": "QghgeKEzGMYO",
      "execution_count": 119,
      "outputs": []
    },
    {
      "cell_type": "code",
      "source": [
        "for month in monthly_means.index:\n",
        "    mean_value = monthly_means[month]\n",
        "    weather_data.loc[weather_data['month'] == month, 'prcp'] = weather_data.loc[weather_data['month'] == month, 'prcp'].fillna(mean_value)"
      ],
      "metadata": {
        "id": "2gYSzgcVGTF_"
      },
      "id": "2gYSzgcVGTF_",
      "execution_count": 120,
      "outputs": []
    },
    {
      "cell_type": "code",
      "source": [
        "weather_data.drop('month', axis=1, inplace=True)"
      ],
      "metadata": {
        "id": "JiWjnI_mGcEn"
      },
      "id": "JiWjnI_mGcEn",
      "execution_count": 121,
      "outputs": []
    },
    {
      "cell_type": "code",
      "source": [
        "print(weather_data)"
      ],
      "metadata": {
        "colab": {
          "base_uri": "https://localhost:8080/"
        },
        "id": "cLSw0Aq8GeNN",
        "outputId": "24a6f966-8b8a-4de6-b55a-2563592b5eb8"
      },
      "id": "cLSw0Aq8GeNN",
      "execution_count": 122,
      "outputs": [
        {
          "output_type": "stream",
          "name": "stdout",
          "text": [
            "           Date  prcp  tmin  tmax  tavg\n",
            "0    2013-01-06   NaN  20.0  29.4  21.8\n",
            "1    2013-02-06  13.2  20.0  27.6  22.3\n",
            "2    2013-03-06   5.1  19.2  27.6  22.3\n",
            "3    2013-04-06   4.6  19.7  29.9  24.1\n",
            "4    2013-05-06   0.0  21.2  29.9  25.0\n",
            "...         ...   ...   ...   ...   ...\n",
            "3671 2023-11-26   0.0  16.9  30.3  23.6\n",
            "3672 2023-11-27  35.1  16.9  31.3  24.1\n",
            "3673 2023-11-28  10.9  16.9  27.1  22.0\n",
            "3674 2023-11-29   1.6  18.5  24.9  21.7\n",
            "3675 2023-11-30   0.0  19.3  27.9  23.6\n",
            "\n",
            "[3676 rows x 5 columns]\n"
          ]
        }
      ]
    },
    {
      "cell_type": "code",
      "source": [
        "weather_data.to_csv(\"weather.csv\", index=False)"
      ],
      "metadata": {
        "id": "Xxhe8kNEH8jl"
      },
      "id": "Xxhe8kNEH8jl",
      "execution_count": 151,
      "outputs": []
    },
    {
      "cell_type": "code",
      "source": [
        "weather_data['month'] = weather_data['Date'].dt.month"
      ],
      "metadata": {
        "id": "gQAvURq1Gw8p"
      },
      "id": "gQAvURq1Gw8p",
      "execution_count": 124,
      "outputs": []
    },
    {
      "cell_type": "code",
      "source": [
        "mode_df = weather_data[weather_data['month'].isin([11, 12, 1, 2])]"
      ],
      "metadata": {
        "id": "A_GzGvfFGr1V"
      },
      "id": "A_GzGvfFGr1V",
      "execution_count": 127,
      "outputs": []
    },
    {
      "cell_type": "code",
      "source": [
        "def fill_mode(group):\n",
        "    mode_value = group.mode().iloc[0]\n",
        "    return group.fillna(mode_value)"
      ],
      "metadata": {
        "id": "oTO1zTr4G0LN"
      },
      "id": "oTO1zTr4G0LN",
      "execution_count": 128,
      "outputs": []
    },
    {
      "cell_type": "code",
      "source": [
        "mode_df['prcp'] = mode_df.groupby('month')['prcp'].transform(fill_mode)"
      ],
      "metadata": {
        "colab": {
          "base_uri": "https://localhost:8080/"
        },
        "id": "-144EkqGG6tE",
        "outputId": "16fad5eb-0bf2-4a47-c559-8a0e0d6a412a"
      },
      "id": "-144EkqGG6tE",
      "execution_count": 131,
      "outputs": [
        {
          "output_type": "stream",
          "name": "stderr",
          "text": [
            "<ipython-input-131-8416673340b8>:1: SettingWithCopyWarning: \n",
            "A value is trying to be set on a copy of a slice from a DataFrame.\n",
            "Try using .loc[row_indexer,col_indexer] = value instead\n",
            "\n",
            "See the caveats in the documentation: https://pandas.pydata.org/pandas-docs/stable/user_guide/indexing.html#returning-a-view-versus-a-copy\n",
            "  mode_df['prcp'] = mode_df.groupby('month')['prcp'].transform(fill_mode)\n"
          ]
        }
      ]
    },
    {
      "cell_type": "code",
      "source": [
        "weather_data = pd.merge(weather_data, mode_df[['Date', 'prcp']], on='Date', how='left')"
      ],
      "metadata": {
        "id": "Yc_3lNmuG6nT"
      },
      "id": "Yc_3lNmuG6nT",
      "execution_count": 147,
      "outputs": []
    },
    {
      "cell_type": "code",
      "source": [
        "weather_data['prcp'].fillna(filtered_df['prcp'], inplace=True)"
      ],
      "metadata": {
        "id": "Du6zQdzgHc7I"
      },
      "id": "Du6zQdzgHc7I",
      "execution_count": 148,
      "outputs": []
    },
    {
      "cell_type": "code",
      "source": [
        "weather_data.drop('month', axis=1, inplace=True)"
      ],
      "metadata": {
        "id": "miwD5rJWHqxM"
      },
      "id": "miwD5rJWHqxM",
      "execution_count": 149,
      "outputs": []
    },
    {
      "cell_type": "code",
      "source": [
        "print(weather_data)"
      ],
      "metadata": {
        "colab": {
          "base_uri": "https://localhost:8080/"
        },
        "id": "wtlRR3tsHstp",
        "outputId": "1cfa0a1e-2792-45d7-b343-396e92a4c26a"
      },
      "id": "wtlRR3tsHstp",
      "execution_count": 150,
      "outputs": [
        {
          "output_type": "stream",
          "name": "stdout",
          "text": [
            "           Date  prcp_x  tmin  tmax  tavg  prcp_y  prcp\n",
            "0    2013-01-06     NaN  20.0  29.4  21.8     0.0   0.0\n",
            "1    2013-02-06    13.2  20.0  27.6  22.3    13.2  13.2\n",
            "2    2013-03-06     5.1  19.2  27.6  22.3     NaN   NaN\n",
            "3    2013-04-06     4.6  19.7  29.9  24.1     NaN   NaN\n",
            "4    2013-05-06     0.0  21.2  29.9  25.0     NaN   NaN\n",
            "...         ...     ...   ...   ...   ...     ...   ...\n",
            "3671 2023-11-26     0.0  16.9  30.3  23.6     0.0   0.0\n",
            "3672 2023-11-27    35.1  16.9  31.3  24.1    35.1  35.1\n",
            "3673 2023-11-28    10.9  16.9  27.1  22.0    10.9  10.9\n",
            "3674 2023-11-29     1.6  18.5  24.9  21.7     1.6   1.6\n",
            "3675 2023-11-30     0.0  19.3  27.9  23.6     0.0   0.0\n",
            "\n",
            "[3676 rows x 7 columns]\n"
          ]
        }
      ]
    },
    {
      "cell_type": "code",
      "source": [
        "# Combine prcp, prcp_x, and prcp_y into one column called prcp\n",
        "weather_data['prcp'] = weather_data['prcp'].combine_first(weather_data['prcp_x']).combine_first(weather_data['prcp_y'])\n",
        "\n",
        "# Drop columns prcp_x and prcp_y if they are no longer needed\n",
        "weather_data.drop(['prcp_x', 'prcp_y'], axis=1, inplace=True)"
      ],
      "metadata": {
        "id": "VnTwhMTJIcTQ"
      },
      "id": "VnTwhMTJIcTQ",
      "execution_count": 152,
      "outputs": []
    },
    {
      "cell_type": "code",
      "source": [
        "print(weather_data)"
      ],
      "metadata": {
        "colab": {
          "base_uri": "https://localhost:8080/"
        },
        "id": "JcfenANyItcu",
        "outputId": "dca5a38b-f8cf-4f66-e275-4a7c9e662301"
      },
      "id": "JcfenANyItcu",
      "execution_count": 153,
      "outputs": [
        {
          "output_type": "stream",
          "name": "stdout",
          "text": [
            "           Date  tmin  tmax  tavg  prcp\n",
            "0    2013-01-06  20.0  29.4  21.8   0.0\n",
            "1    2013-02-06  20.0  27.6  22.3  13.2\n",
            "2    2013-03-06  19.2  27.6  22.3   5.1\n",
            "3    2013-04-06  19.7  29.9  24.1   4.6\n",
            "4    2013-05-06  21.2  29.9  25.0   0.0\n",
            "...         ...   ...   ...   ...   ...\n",
            "3671 2023-11-26  16.9  30.3  23.6   0.0\n",
            "3672 2023-11-27  16.9  31.3  24.1  35.1\n",
            "3673 2023-11-28  16.9  27.1  22.0  10.9\n",
            "3674 2023-11-29  18.5  24.9  21.7   1.6\n",
            "3675 2023-11-30  19.3  27.9  23.6   0.0\n",
            "\n",
            "[3676 rows x 5 columns]\n"
          ]
        }
      ]
    },
    {
      "cell_type": "code",
      "source": [
        "weather_data.to_csv(\"weather_preprocess.csv\", index=False)"
      ],
      "metadata": {
        "id": "pMJg1TRDIxi9"
      },
      "id": "pMJg1TRDIxi9",
      "execution_count": 154,
      "outputs": []
    }
  ],
  "metadata": {
    "kernelspec": {
      "display_name": "Python 3 (ipykernel)",
      "language": "python",
      "name": "python3"
    },
    "language_info": {
      "codemirror_mode": {
        "name": "ipython",
        "version": 3
      },
      "file_extension": ".py",
      "mimetype": "text/x-python",
      "name": "python",
      "nbconvert_exporter": "python",
      "pygments_lexer": "ipython3",
      "version": "3.11.5"
    },
    "colab": {
      "provenance": []
    }
  },
  "nbformat": 4,
  "nbformat_minor": 5
}